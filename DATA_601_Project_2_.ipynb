{
  "nbformat": 4,
  "nbformat_minor": 0,
  "metadata": {
    "kernelspec": {
      "display_name": "Python 3",
      "language": "python",
      "name": "python3"
    },
    "language_info": {
      "codemirror_mode": {
        "name": "ipython",
        "version": 3
      },
      "file_extension": ".py",
      "mimetype": "text/x-python",
      "name": "python",
      "nbconvert_exporter": "python",
      "pygments_lexer": "ipython3",
      "version": "3.8.3"
    },
    "colab": {
      "name": "DATA 601 Project 2 .ipynb",
      "provenance": [],
      "collapsed_sections": []
    }
  },
  "cells": [
    {
      "cell_type": "markdown",
      "metadata": {
        "id": "1B2d223bVfVU"
      },
      "source": [
        "#**DATA 601 Project 2**\n",
        "\n",
        "####**Project Objective:**\n",
        "Estimation of obesity levels based on eating habits and physical condition Data Set.\n",
        "This dataset includes data for estimating obesity levels in individuals from Mexico, Peru, and Colombia, based on their eating habits and physical condition.\n",
        "\n",
        "####**Data Sources:**\n",
        "The dataset is from the UC Irvine Machine Learning Repository website.<br>\n",
        "Data download link:<Br>\n",
        "https://archive.ics.uci.edu/ml/machine-learning-databases/00544/<br>\n",
        "From:<br>\n",
        "https://archive.ics.uci.edu/ml/datasets/Estimation+of+obesity+levels+based+on+eating+habits+and+physical+condition+#<br>\n",
        "\n",
        "Country: Mexico, Peru, and Colombia\n",
        "Population: People from Mexico, Peru, and Colombia, with ages between 14 and 61 and diverse eating habits and physical condition. \n",
        "\n",
        "####**Data Description:**<br>\n",
        "https://www.sciencedirect.com/science/article/pii/S2352340919306985?via%3Dihub <br>\n",
        "“The dataset is obtaining 17 attributes and 2111 records. The attributes related with eating habits are: Frequent consumption of high caloric food (FAVC), Frequency of consumption of vegetables (FCVC), Number of main meals (NCP), Consumption of food between meals (CAEC), Consumption of water daily (CH20), and Consumption of alcohol (CALC). The attributes related with the physical condition are: Calories consumption monitoring (SCC), Physical activity frequency (FAF), Time using technology devices (TUE), Transportation used (MTRANS), other variables obtained were: Gender, Age, Height and Weight. All data was labeled and the class variable NObesity was created with the values of: Insufficient Weight, Normal Weight, Overweight Level I, Overweight Level II, Obesity Type I, Obesity Type II and Obesity Type III.” (Palechor, 2019)\n",
        "\n",
        "####**Collection Method:**\n",
        "According to Palechor states in the data attributes description, the data collected using a web platform with an anonymous survey. The survey contains questions asking the users to fulfill their gender, age, height, weight, eating habits, and physical condition. \n",
        "\n",
        "\n",
        "References:\n",
        "[1]Palechor, F. M., & de la Hoz Manotas, A. (2019). Dataset for estimation of obesity levels based on eating habits and physical condition in individuals from Colombia, Peru and Mexico. Data in Brief, 104344.<br>\n",
        "[2]De-La-Hoz-Correa, E., Mendoza Palechor, F., De-La-Hoz-Manotas, A., Morales Ortega, R., & SÃ¡nchez HernÃ¡ndez, A. B. (2019). Obesity level estimation software based on decision trees.<br>\n",
        "https://archive.ics.uci.edu/ml/datasets/Estimation+of+obesity+levels+based+on+eating+habits+and+physical+condition+#\n",
        "https://www.sciencedirect.com/science/article/pii/S2352340919306985?via%3Dihub\n"
      ]
    },
    {
      "cell_type": "markdown",
      "metadata": {
        "id": "nZwY4cSWVfVW"
      },
      "source": [
        "\n",
        "####**<font size=3>Motivation:**<br>\n",
        "Overweight and obesity becomes a growing concern, especially that obesity is a common, severe, and costly disease.<br> Being overweight is a problem, but people with insufficient weight also face some difficulties.<br>\n",
        "Keeping a healthy weight is essential for everyone; weight can depend on eating habits, physical condition, and other life habits as well.<br>\n"
      ]
    },
    {
      "cell_type": "markdown",
      "metadata": {
        "id": "YRc7C8tlVfVX"
      },
      "source": [
        "####**<font size = 3>The Hypothesis:**\n",
        "- For people who consume alcohol, males have a higher chance of being overweight and obese than females.\n",
        "- Smoking can increase the chance of being overweight and obese. \n",
        "- People with a family history of overweight have a higher risk of being overweight and obese.\n",
        "\n",
        "####**<font size = 3>Observational study:**\n",
        "- Clean up the data\n",
        "- Summarize the data\n",
        "- Visualize the relationship between selected attributes\n",
        "- Compare the outcomes and check if they support the hypothesis\n",
        "- Conclude the research questions"
      ]
    },
    {
      "cell_type": "markdown",
      "metadata": {
        "id": "lB868dSkVfVY"
      },
      "source": [
        "####**<font size=4>Exploratory Data Analysis with Hypothesis**\n"
      ]
    },
    {
      "cell_type": "markdown",
      "metadata": {
        "id": "xTqVCkDTVfVY"
      },
      "source": [
        "####**Import modules**"
      ]
    },
    {
      "cell_type": "code",
      "metadata": {
        "id": "ig3LMa2YVfVZ"
      },
      "source": [
        "import pandas as pd\n",
        "import numpy as np\n",
        "import seaborn as sns\n",
        "import matplotlib.pyplot as plt \n",
        "import xlrd  \n",
        "import urllib\n",
        "import zipfile"
      ],
      "execution_count": 1,
      "outputs": []
    },
    {
      "cell_type": "markdown",
      "metadata": {
        "id": "toW1S0FVVfVc"
      },
      "source": [
        "####**Download dataset and upload to google drive**"
      ]
    },
    {
      "cell_type": "code",
      "metadata": {
        "id": "TkinQ_y5VfVd"
      },
      "source": [
        "# uploaded the original dataset to google drive\n",
        "url = \"https://drive.google.com/file/d/1NTbBkvUtYM7vJSkNEvG3ONDpDJphMc2R/view?usp=sharing\""
      ],
      "execution_count": 2,
      "outputs": []
    },
    {
      "cell_type": "markdown",
      "metadata": {
        "id": "Xb2gjv14VfVf"
      },
      "source": [
        "####**Read the csv file from google drive**"
      ]
    },
    {
      "cell_type": "code",
      "metadata": {
        "id": "cYrFEulcVfVg"
      },
      "source": [
        "# https://stackoverflow.com/a/62592638\n",
        "import pandas as pd\n",
        "\n",
        "url = \"https://drive.google.com/file/d/1NTbBkvUtYM7vJSkNEvG3ONDpDJphMc2R/view?usp=sharing\"\n",
        "path = 'https://drive.google.com/uc?export=download&id='+url.split('/')[-2]\n",
        "df = pd.read_csv(path)\n",
        "\n",
        "# change the column names\n",
        "df.columns =['Gender', 'Age','Height','Weight','FamHist_overweight',\n",
        "             'Freq_HighCalFood','Freq_Veggie','Num_MainMeals',\n",
        "             'FoodBetweenMeals','Smoke','WaterIntake','MonitoringCal',\n",
        "             'Physical_Activity','Time_TechDeivce','Alcohol','Transportation',\n",
        "             'OverWeight/Obesity_Type']"
      ],
      "execution_count": 3,
      "outputs": []
    },
    {
      "cell_type": "markdown",
      "metadata": {
        "id": "Zj8VsYrSVfVi"
      },
      "source": [
        "####**The attributes related with eating habits are:** <br>\n",
        "- Gender<br>\n",
        "- Age<br>\n",
        "- Height(Numeric value in meters)<br>\n",
        "- Weight(Numeric value in kilograms)<br>\n",
        "- FamHist_overweight: Family history of Overweight<br>\n",
        "- Freq_HighCalFood:   Frequent consumption of high caloric food<br>\n",
        "- Freq_Veggie:        Frequent consumption of vegetables <br>\n",
        "- Num_MainMeals:      Number of main meals  <br>\n",
        "- FoodBetweenMeals:   Consumption of food between meals <br>\n",
        "- Smoke:              Frequent consumption of smoking<br>\n",
        "- WaterIntake:        Consumption of water daily(Numeric value in liter)<br>\n",
        "- MonitoringCal:      Calories consumption monitoring<br>\n",
        "- Physical_Activity:  Physical activity frequency(frequency in days)<br>\n",
        "- Time_TechDeivce:    Time using technology devices(Numeric value in hours)<br>\n",
        "- Alcohol:            Consumption of alcohol<br> \n",
        "- Transportation:     Transportation used <br>\n",
        "- OverWeight/Obesity_Type:<br>Insufficient Weight, Normal Weight, Overweight Level I, Overweight Level II, Obesity Type I, Obesity Type II, and Obesity Type III."
      ]
    },
    {
      "cell_type": "markdown",
      "metadata": {
        "id": "jM8tJyqJVfVj"
      },
      "source": [
        "####**Dispaly dataset**"
      ]
    },
    {
      "cell_type": "code",
      "metadata": {
        "id": "U42u15WfVfVj",
        "outputId": "5d71d116-5fc4-49a1-ea66-33cfb3bba453",
        "colab": {
          "base_uri": "https://localhost:8080/",
          "height": 439
        }
      },
      "source": [
        "df"
      ],
      "execution_count": 4,
      "outputs": [
        {
          "output_type": "execute_result",
          "data": {
            "text/html": [
              "<div>\n",
              "<style scoped>\n",
              "    .dataframe tbody tr th:only-of-type {\n",
              "        vertical-align: middle;\n",
              "    }\n",
              "\n",
              "    .dataframe tbody tr th {\n",
              "        vertical-align: top;\n",
              "    }\n",
              "\n",
              "    .dataframe thead th {\n",
              "        text-align: right;\n",
              "    }\n",
              "</style>\n",
              "<table border=\"1\" class=\"dataframe\">\n",
              "  <thead>\n",
              "    <tr style=\"text-align: right;\">\n",
              "      <th></th>\n",
              "      <th>Gender</th>\n",
              "      <th>Age</th>\n",
              "      <th>Height</th>\n",
              "      <th>Weight</th>\n",
              "      <th>FamHist_overweight</th>\n",
              "      <th>Freq_HighCalFood</th>\n",
              "      <th>Freq_Veggie</th>\n",
              "      <th>Num_MainMeals</th>\n",
              "      <th>FoodBetweenMeals</th>\n",
              "      <th>Smoke</th>\n",
              "      <th>WaterIntake</th>\n",
              "      <th>MonitoringCal</th>\n",
              "      <th>Physical_Activity</th>\n",
              "      <th>Time_TechDeivce</th>\n",
              "      <th>Alcohol</th>\n",
              "      <th>Transportation</th>\n",
              "      <th>OverWeight/Obesity_Type</th>\n",
              "    </tr>\n",
              "  </thead>\n",
              "  <tbody>\n",
              "    <tr>\n",
              "      <th>0</th>\n",
              "      <td>Female</td>\n",
              "      <td>21.000000</td>\n",
              "      <td>1.620000</td>\n",
              "      <td>64.000000</td>\n",
              "      <td>yes</td>\n",
              "      <td>no</td>\n",
              "      <td>2.0</td>\n",
              "      <td>3.0</td>\n",
              "      <td>Sometimes</td>\n",
              "      <td>no</td>\n",
              "      <td>2.000000</td>\n",
              "      <td>no</td>\n",
              "      <td>0.000000</td>\n",
              "      <td>1.000000</td>\n",
              "      <td>no</td>\n",
              "      <td>Public_Transportation</td>\n",
              "      <td>Normal_Weight</td>\n",
              "    </tr>\n",
              "    <tr>\n",
              "      <th>1</th>\n",
              "      <td>Female</td>\n",
              "      <td>21.000000</td>\n",
              "      <td>1.520000</td>\n",
              "      <td>56.000000</td>\n",
              "      <td>yes</td>\n",
              "      <td>no</td>\n",
              "      <td>3.0</td>\n",
              "      <td>3.0</td>\n",
              "      <td>Sometimes</td>\n",
              "      <td>yes</td>\n",
              "      <td>3.000000</td>\n",
              "      <td>yes</td>\n",
              "      <td>3.000000</td>\n",
              "      <td>0.000000</td>\n",
              "      <td>Sometimes</td>\n",
              "      <td>Public_Transportation</td>\n",
              "      <td>Normal_Weight</td>\n",
              "    </tr>\n",
              "    <tr>\n",
              "      <th>2</th>\n",
              "      <td>Male</td>\n",
              "      <td>23.000000</td>\n",
              "      <td>1.800000</td>\n",
              "      <td>77.000000</td>\n",
              "      <td>yes</td>\n",
              "      <td>no</td>\n",
              "      <td>2.0</td>\n",
              "      <td>3.0</td>\n",
              "      <td>Sometimes</td>\n",
              "      <td>no</td>\n",
              "      <td>2.000000</td>\n",
              "      <td>no</td>\n",
              "      <td>2.000000</td>\n",
              "      <td>1.000000</td>\n",
              "      <td>Frequently</td>\n",
              "      <td>Public_Transportation</td>\n",
              "      <td>Normal_Weight</td>\n",
              "    </tr>\n",
              "    <tr>\n",
              "      <th>3</th>\n",
              "      <td>Male</td>\n",
              "      <td>27.000000</td>\n",
              "      <td>1.800000</td>\n",
              "      <td>87.000000</td>\n",
              "      <td>no</td>\n",
              "      <td>no</td>\n",
              "      <td>3.0</td>\n",
              "      <td>3.0</td>\n",
              "      <td>Sometimes</td>\n",
              "      <td>no</td>\n",
              "      <td>2.000000</td>\n",
              "      <td>no</td>\n",
              "      <td>2.000000</td>\n",
              "      <td>0.000000</td>\n",
              "      <td>Frequently</td>\n",
              "      <td>Walking</td>\n",
              "      <td>Overweight_Level_I</td>\n",
              "    </tr>\n",
              "    <tr>\n",
              "      <th>4</th>\n",
              "      <td>Male</td>\n",
              "      <td>22.000000</td>\n",
              "      <td>1.780000</td>\n",
              "      <td>89.800000</td>\n",
              "      <td>no</td>\n",
              "      <td>no</td>\n",
              "      <td>2.0</td>\n",
              "      <td>1.0</td>\n",
              "      <td>Sometimes</td>\n",
              "      <td>no</td>\n",
              "      <td>2.000000</td>\n",
              "      <td>no</td>\n",
              "      <td>0.000000</td>\n",
              "      <td>0.000000</td>\n",
              "      <td>Sometimes</td>\n",
              "      <td>Public_Transportation</td>\n",
              "      <td>Overweight_Level_II</td>\n",
              "    </tr>\n",
              "    <tr>\n",
              "      <th>...</th>\n",
              "      <td>...</td>\n",
              "      <td>...</td>\n",
              "      <td>...</td>\n",
              "      <td>...</td>\n",
              "      <td>...</td>\n",
              "      <td>...</td>\n",
              "      <td>...</td>\n",
              "      <td>...</td>\n",
              "      <td>...</td>\n",
              "      <td>...</td>\n",
              "      <td>...</td>\n",
              "      <td>...</td>\n",
              "      <td>...</td>\n",
              "      <td>...</td>\n",
              "      <td>...</td>\n",
              "      <td>...</td>\n",
              "      <td>...</td>\n",
              "    </tr>\n",
              "    <tr>\n",
              "      <th>2106</th>\n",
              "      <td>Female</td>\n",
              "      <td>20.976842</td>\n",
              "      <td>1.710730</td>\n",
              "      <td>131.408528</td>\n",
              "      <td>yes</td>\n",
              "      <td>yes</td>\n",
              "      <td>3.0</td>\n",
              "      <td>3.0</td>\n",
              "      <td>Sometimes</td>\n",
              "      <td>no</td>\n",
              "      <td>1.728139</td>\n",
              "      <td>no</td>\n",
              "      <td>1.676269</td>\n",
              "      <td>0.906247</td>\n",
              "      <td>Sometimes</td>\n",
              "      <td>Public_Transportation</td>\n",
              "      <td>Obesity_Type_III</td>\n",
              "    </tr>\n",
              "    <tr>\n",
              "      <th>2107</th>\n",
              "      <td>Female</td>\n",
              "      <td>21.982942</td>\n",
              "      <td>1.748584</td>\n",
              "      <td>133.742943</td>\n",
              "      <td>yes</td>\n",
              "      <td>yes</td>\n",
              "      <td>3.0</td>\n",
              "      <td>3.0</td>\n",
              "      <td>Sometimes</td>\n",
              "      <td>no</td>\n",
              "      <td>2.005130</td>\n",
              "      <td>no</td>\n",
              "      <td>1.341390</td>\n",
              "      <td>0.599270</td>\n",
              "      <td>Sometimes</td>\n",
              "      <td>Public_Transportation</td>\n",
              "      <td>Obesity_Type_III</td>\n",
              "    </tr>\n",
              "    <tr>\n",
              "      <th>2108</th>\n",
              "      <td>Female</td>\n",
              "      <td>22.524036</td>\n",
              "      <td>1.752206</td>\n",
              "      <td>133.689352</td>\n",
              "      <td>yes</td>\n",
              "      <td>yes</td>\n",
              "      <td>3.0</td>\n",
              "      <td>3.0</td>\n",
              "      <td>Sometimes</td>\n",
              "      <td>no</td>\n",
              "      <td>2.054193</td>\n",
              "      <td>no</td>\n",
              "      <td>1.414209</td>\n",
              "      <td>0.646288</td>\n",
              "      <td>Sometimes</td>\n",
              "      <td>Public_Transportation</td>\n",
              "      <td>Obesity_Type_III</td>\n",
              "    </tr>\n",
              "    <tr>\n",
              "      <th>2109</th>\n",
              "      <td>Female</td>\n",
              "      <td>24.361936</td>\n",
              "      <td>1.739450</td>\n",
              "      <td>133.346641</td>\n",
              "      <td>yes</td>\n",
              "      <td>yes</td>\n",
              "      <td>3.0</td>\n",
              "      <td>3.0</td>\n",
              "      <td>Sometimes</td>\n",
              "      <td>no</td>\n",
              "      <td>2.852339</td>\n",
              "      <td>no</td>\n",
              "      <td>1.139107</td>\n",
              "      <td>0.586035</td>\n",
              "      <td>Sometimes</td>\n",
              "      <td>Public_Transportation</td>\n",
              "      <td>Obesity_Type_III</td>\n",
              "    </tr>\n",
              "    <tr>\n",
              "      <th>2110</th>\n",
              "      <td>Female</td>\n",
              "      <td>23.664709</td>\n",
              "      <td>1.738836</td>\n",
              "      <td>133.472641</td>\n",
              "      <td>yes</td>\n",
              "      <td>yes</td>\n",
              "      <td>3.0</td>\n",
              "      <td>3.0</td>\n",
              "      <td>Sometimes</td>\n",
              "      <td>no</td>\n",
              "      <td>2.863513</td>\n",
              "      <td>no</td>\n",
              "      <td>1.026452</td>\n",
              "      <td>0.714137</td>\n",
              "      <td>Sometimes</td>\n",
              "      <td>Public_Transportation</td>\n",
              "      <td>Obesity_Type_III</td>\n",
              "    </tr>\n",
              "  </tbody>\n",
              "</table>\n",
              "<p>2111 rows × 17 columns</p>\n",
              "</div>"
            ],
            "text/plain": [
              "      Gender        Age  ...         Transportation  OverWeight/Obesity_Type\n",
              "0     Female  21.000000  ...  Public_Transportation            Normal_Weight\n",
              "1     Female  21.000000  ...  Public_Transportation            Normal_Weight\n",
              "2       Male  23.000000  ...  Public_Transportation            Normal_Weight\n",
              "3       Male  27.000000  ...                Walking       Overweight_Level_I\n",
              "4       Male  22.000000  ...  Public_Transportation      Overweight_Level_II\n",
              "...      ...        ...  ...                    ...                      ...\n",
              "2106  Female  20.976842  ...  Public_Transportation         Obesity_Type_III\n",
              "2107  Female  21.982942  ...  Public_Transportation         Obesity_Type_III\n",
              "2108  Female  22.524036  ...  Public_Transportation         Obesity_Type_III\n",
              "2109  Female  24.361936  ...  Public_Transportation         Obesity_Type_III\n",
              "2110  Female  23.664709  ...  Public_Transportation         Obesity_Type_III\n",
              "\n",
              "[2111 rows x 17 columns]"
            ]
          },
          "metadata": {
            "tags": []
          },
          "execution_count": 4
        }
      ]
    },
    {
      "cell_type": "code",
      "metadata": {
        "id": "4iNMls5zVfVp",
        "outputId": "2659b915-0a2d-4bd2-a553-f1ae74a43e75",
        "colab": {
          "base_uri": "https://localhost:8080/"
        }
      },
      "source": [
        "# size of dataframe\n",
        "df.shape"
      ],
      "execution_count": 5,
      "outputs": [
        {
          "output_type": "execute_result",
          "data": {
            "text/plain": [
              "(2111, 17)"
            ]
          },
          "metadata": {
            "tags": []
          },
          "execution_count": 5
        }
      ]
    },
    {
      "cell_type": "markdown",
      "metadata": {
        "id": "TG4gDZQrVfVs"
      },
      "source": [
        "This dataset cotains 2111 people's information."
      ]
    },
    {
      "cell_type": "code",
      "metadata": {
        "id": "A1HQh9ihVfVs",
        "outputId": "f54414b0-f6b9-4c5f-c6f4-fb5da18f52a4",
        "colab": {
          "base_uri": "https://localhost:8080/"
        }
      },
      "source": [
        "df.info()"
      ],
      "execution_count": 6,
      "outputs": [
        {
          "output_type": "stream",
          "text": [
            "<class 'pandas.core.frame.DataFrame'>\n",
            "RangeIndex: 2111 entries, 0 to 2110\n",
            "Data columns (total 17 columns):\n",
            " #   Column                   Non-Null Count  Dtype  \n",
            "---  ------                   --------------  -----  \n",
            " 0   Gender                   2111 non-null   object \n",
            " 1   Age                      2111 non-null   float64\n",
            " 2   Height                   2111 non-null   float64\n",
            " 3   Weight                   2111 non-null   float64\n",
            " 4   FamHist_overweight       2111 non-null   object \n",
            " 5   Freq_HighCalFood         2111 non-null   object \n",
            " 6   Freq_Veggie              2111 non-null   float64\n",
            " 7   Num_MainMeals            2111 non-null   float64\n",
            " 8   FoodBetweenMeals         2111 non-null   object \n",
            " 9   Smoke                    2111 non-null   object \n",
            " 10  WaterIntake              2111 non-null   float64\n",
            " 11  MonitoringCal            2111 non-null   object \n",
            " 12  Physical_Activity        2111 non-null   float64\n",
            " 13  Time_TechDeivce          2111 non-null   float64\n",
            " 14  Alcohol                  2111 non-null   object \n",
            " 15  Transportation           2111 non-null   object \n",
            " 16  OverWeight/Obesity_Type  2111 non-null   object \n",
            "dtypes: float64(8), object(9)\n",
            "memory usage: 280.5+ KB\n"
          ],
          "name": "stdout"
        }
      ]
    },
    {
      "cell_type": "markdown",
      "metadata": {
        "id": "VCOkFk0kVfVv"
      },
      "source": [
        "####**Find all null values**"
      ]
    },
    {
      "cell_type": "code",
      "metadata": {
        "id": "uIi5M563VfVv",
        "outputId": "e8d69d06-eed0-4af2-8292-1522d3505aa2",
        "colab": {
          "base_uri": "https://localhost:8080/"
        }
      },
      "source": [
        "print(\" \\nTotal NaN in a DataFrame : \\n\\n\", \n",
        "       df.isna().sum().sum()) "
      ],
      "execution_count": 7,
      "outputs": [
        {
          "output_type": "stream",
          "text": [
            " \n",
            "Total NaN in a DataFrame : \n",
            "\n",
            " 0\n"
          ],
          "name": "stdout"
        }
      ]
    },
    {
      "cell_type": "markdown",
      "metadata": {
        "id": "kUb9SaXuVfVy"
      },
      "source": [
        "- Since there is no NaN cell, the dataset is clean and ready to analyze."
      ]
    },
    {
      "cell_type": "code",
      "metadata": {
        "id": "iMqBfHmmVfVy",
        "outputId": "19a83439-b0f0-4fa3-99dc-c9027a2f845c",
        "colab": {
          "base_uri": "https://localhost:8080/",
          "height": 297
        }
      },
      "source": [
        "# detail of numerical columns in the dataset\n",
        "df.describe()"
      ],
      "execution_count": 8,
      "outputs": [
        {
          "output_type": "execute_result",
          "data": {
            "text/html": [
              "<div>\n",
              "<style scoped>\n",
              "    .dataframe tbody tr th:only-of-type {\n",
              "        vertical-align: middle;\n",
              "    }\n",
              "\n",
              "    .dataframe tbody tr th {\n",
              "        vertical-align: top;\n",
              "    }\n",
              "\n",
              "    .dataframe thead th {\n",
              "        text-align: right;\n",
              "    }\n",
              "</style>\n",
              "<table border=\"1\" class=\"dataframe\">\n",
              "  <thead>\n",
              "    <tr style=\"text-align: right;\">\n",
              "      <th></th>\n",
              "      <th>Age</th>\n",
              "      <th>Height</th>\n",
              "      <th>Weight</th>\n",
              "      <th>Freq_Veggie</th>\n",
              "      <th>Num_MainMeals</th>\n",
              "      <th>WaterIntake</th>\n",
              "      <th>Physical_Activity</th>\n",
              "      <th>Time_TechDeivce</th>\n",
              "    </tr>\n",
              "  </thead>\n",
              "  <tbody>\n",
              "    <tr>\n",
              "      <th>count</th>\n",
              "      <td>2111.000000</td>\n",
              "      <td>2111.000000</td>\n",
              "      <td>2111.000000</td>\n",
              "      <td>2111.000000</td>\n",
              "      <td>2111.000000</td>\n",
              "      <td>2111.000000</td>\n",
              "      <td>2111.000000</td>\n",
              "      <td>2111.000000</td>\n",
              "    </tr>\n",
              "    <tr>\n",
              "      <th>mean</th>\n",
              "      <td>24.312600</td>\n",
              "      <td>1.701677</td>\n",
              "      <td>86.586058</td>\n",
              "      <td>2.419043</td>\n",
              "      <td>2.685628</td>\n",
              "      <td>2.008011</td>\n",
              "      <td>1.010298</td>\n",
              "      <td>0.657866</td>\n",
              "    </tr>\n",
              "    <tr>\n",
              "      <th>std</th>\n",
              "      <td>6.345968</td>\n",
              "      <td>0.093305</td>\n",
              "      <td>26.191172</td>\n",
              "      <td>0.533927</td>\n",
              "      <td>0.778039</td>\n",
              "      <td>0.612953</td>\n",
              "      <td>0.850592</td>\n",
              "      <td>0.608927</td>\n",
              "    </tr>\n",
              "    <tr>\n",
              "      <th>min</th>\n",
              "      <td>14.000000</td>\n",
              "      <td>1.450000</td>\n",
              "      <td>39.000000</td>\n",
              "      <td>1.000000</td>\n",
              "      <td>1.000000</td>\n",
              "      <td>1.000000</td>\n",
              "      <td>0.000000</td>\n",
              "      <td>0.000000</td>\n",
              "    </tr>\n",
              "    <tr>\n",
              "      <th>25%</th>\n",
              "      <td>19.947192</td>\n",
              "      <td>1.630000</td>\n",
              "      <td>65.473343</td>\n",
              "      <td>2.000000</td>\n",
              "      <td>2.658738</td>\n",
              "      <td>1.584812</td>\n",
              "      <td>0.124505</td>\n",
              "      <td>0.000000</td>\n",
              "    </tr>\n",
              "    <tr>\n",
              "      <th>50%</th>\n",
              "      <td>22.777890</td>\n",
              "      <td>1.700499</td>\n",
              "      <td>83.000000</td>\n",
              "      <td>2.385502</td>\n",
              "      <td>3.000000</td>\n",
              "      <td>2.000000</td>\n",
              "      <td>1.000000</td>\n",
              "      <td>0.625350</td>\n",
              "    </tr>\n",
              "    <tr>\n",
              "      <th>75%</th>\n",
              "      <td>26.000000</td>\n",
              "      <td>1.768464</td>\n",
              "      <td>107.430682</td>\n",
              "      <td>3.000000</td>\n",
              "      <td>3.000000</td>\n",
              "      <td>2.477420</td>\n",
              "      <td>1.666678</td>\n",
              "      <td>1.000000</td>\n",
              "    </tr>\n",
              "    <tr>\n",
              "      <th>max</th>\n",
              "      <td>61.000000</td>\n",
              "      <td>1.980000</td>\n",
              "      <td>173.000000</td>\n",
              "      <td>3.000000</td>\n",
              "      <td>4.000000</td>\n",
              "      <td>3.000000</td>\n",
              "      <td>3.000000</td>\n",
              "      <td>2.000000</td>\n",
              "    </tr>\n",
              "  </tbody>\n",
              "</table>\n",
              "</div>"
            ],
            "text/plain": [
              "               Age       Height  ...  Physical_Activity  Time_TechDeivce\n",
              "count  2111.000000  2111.000000  ...        2111.000000      2111.000000\n",
              "mean     24.312600     1.701677  ...           1.010298         0.657866\n",
              "std       6.345968     0.093305  ...           0.850592         0.608927\n",
              "min      14.000000     1.450000  ...           0.000000         0.000000\n",
              "25%      19.947192     1.630000  ...           0.124505         0.000000\n",
              "50%      22.777890     1.700499  ...           1.000000         0.625350\n",
              "75%      26.000000     1.768464  ...           1.666678         1.000000\n",
              "max      61.000000     1.980000  ...           3.000000         2.000000\n",
              "\n",
              "[8 rows x 8 columns]"
            ]
          },
          "metadata": {
            "tags": []
          },
          "execution_count": 8
        }
      ]
    },
    {
      "cell_type": "markdown",
      "metadata": {
        "id": "MqTecUVwVfV1"
      },
      "source": [
        "#####**Explaination:**<br>\n",
        "- The average of age in this dataset is 24 years old.\n",
        "- The avergae of height is 1.70m (5.58ft).\n",
        "- The average of weight is 86.59kg"
      ]
    },
    {
      "cell_type": "markdown",
      "metadata": {
        "id": "tt_xc1ecVfV1"
      },
      "source": [
        "####**Count the numbers for each weight type**"
      ]
    },
    {
      "cell_type": "code",
      "metadata": {
        "id": "QTt8d0l_VfV2",
        "outputId": "d6488614-aa0f-4010-e1ee-60785f06772c",
        "colab": {
          "base_uri": "https://localhost:8080/"
        }
      },
      "source": [
        "df['OverWeight/Obesity_Type'].value_counts()"
      ],
      "execution_count": 9,
      "outputs": [
        {
          "output_type": "execute_result",
          "data": {
            "text/plain": [
              "Obesity_Type_I         351\n",
              "Obesity_Type_III       324\n",
              "Obesity_Type_II        297\n",
              "Overweight_Level_I     290\n",
              "Overweight_Level_II    290\n",
              "Normal_Weight          287\n",
              "Insufficient_Weight    272\n",
              "Name: OverWeight/Obesity_Type, dtype: int64"
            ]
          },
          "metadata": {
            "tags": []
          },
          "execution_count": 9
        }
      ]
    },
    {
      "cell_type": "markdown",
      "metadata": {
        "id": "IJlR9Z08VfV4"
      },
      "source": [
        "####**Plot Count by Weight Types**\n"
      ]
    },
    {
      "cell_type": "code",
      "metadata": {
        "id": "nCLa0pvrVfV4",
        "outputId": "b6a8f4bd-f466-421e-8b57-9c543a670e80",
        "colab": {
          "base_uri": "https://localhost:8080/",
          "height": 358
        }
      },
      "source": [
        "fig= plt.figure(figsize=(13,5))\n",
        "sns.set(style=\"darkgrid\")\n",
        "total = float(len(df))\n",
        "\n",
        "ax = sns.countplot(x=\"OverWeight/Obesity_Type\", data=df)\n",
        "\n",
        "# function for display the percentage of each group of weight type\n",
        "for p in ax.patches:\n",
        "    height = p.get_height()\n",
        "    ax.text(p.get_x()+p.get_width()/2.,\n",
        "            height + 3,\n",
        "            '{:1.2f}'.format(height/total),\n",
        "            ha=\"center\") \n",
        "    \n",
        "plt.title('Distribution of Weight Types',fontsize=16)\n",
        "plt.xlabel('Type')\n",
        "plt.ylabel('Num. of people')\n",
        "plt.show()"
      ],
      "execution_count": 10,
      "outputs": [
        {
          "output_type": "display_data",
          "data": {
            "image/png": "iVBORw0KGgoAAAANSUhEUgAAAxMAAAFVCAYAAACUxLIIAAAABHNCSVQICAgIfAhkiAAAAAlwSFlzAAALEgAACxIB0t1+/AAAADh0RVh0U29mdHdhcmUAbWF0cGxvdGxpYiB2ZXJzaW9uMy4yLjIsIGh0dHA6Ly9tYXRwbG90bGliLm9yZy+WH4yJAAAgAElEQVR4nOzdeZgcVbn48W8WyJ6AISogYef1IpgIgnDZooAgGPReUfFeQPAHgiCgBhFcUHEJKrhdRFAuEQKighsXkEWFQGSRACEg8rIGIohEQJZkGJLM/P6omtCZzNLT0zPTSb6f55lnpk9tb9fpmq63zjlVg1pbW5EkSZKknho80AFIkiRJWjWZTEiSJEmqicmEJEmSpJqYTEiSJEmqicmEJEmSpJqYTEiSJEmqydCBDkCSeiMiDgNmVBQtBhYCdwGXAJdmZmvF/JsAjwKHZ+ZPqtzGFGAKcFpmtvQwrk0zc35ZNh+YnZkHV7OOWuOq5T32p4gYDHwb+CDwOuDyzHxvB/Ml8ERmvqNd+Q+Bo4FjM/PsdtOeBm7MzAOrjGUTatxXFXW8ZWY+1M02DgMuzMxHuphvCnB9FZu+IDMP60GoktRnbJmQtLp4P7AzsB/wBaCZIpm4LiJGVMz393K+K3uw7inAF+nZ/8wry+38vQfL9NQUOo6rlvfYnw4ETgC+BewCnNTJfDcCO0XEWu3Kd6dIGnevLIyIfwMmlMtVqz/21SYU9bRZN/PdWcbS9vOfZfn0duVf6ZMoJakGtkxIWl3MbXd1eGZEXApcCnwTOA4gM5uBW/sqiPLEd2lmLqRoIel3ff0e6+Dfyt/f7aalZxZwBLADcDNARKxXLv99igSyUltyUXUy0Uj7KjNfoCKWskUD4JHMbIgYJak9kwlJq63M/GVE/BY4MiI+k5mLO+rWEhE7AF8HtgNGUlytvjozj4mIL1FcVQZYEhFt6x5Usa5jKa4+Hwy8HhgfEe+hXTenNhFxJPAZ4A3AfcC0zLy+YvoN5TamtFtuPnBDZh5WZVwrdN2JiIOBTwMBvAT8DjgpM/9eMc98YDZwRbn+icBfgU9k5uwOd/SKMe5bLjcZeIWi285nMjMr1r9xOfuyMu7Ouhi1JQW7UyYTwG5l7P8DnBARW1QkkbsD/wLmldsaWr7fDwObAs9QtFZ9LjNfLufpbF99AvgERX3OK//+KeX+bxfnehHxZWBqGdtlFPv15XZdl65rqyfg7Zl5QwfvuVMRsT0wB3hvZv623bSfAHsBG2fmsop6nEUXn7Vy2T2AU4EdKVq5Zpfz3Vsxzz4U9fomYAjwBHBxZp7Wk/cgafVjNydJq7urgGHAWzuaGBGjgWuAZRT92t8FnMarF1vOA/63/HtXXu1qUulzwFbAR4H/AF7uIp4pwKfKZQ6i6I71u6g4y6xSNXEtFxEfBWZSJAb/CZwM7APMKvdBpd2AaRTdxT5IcfJ4RUSs01VAZSJxJcUJ9QeBjwHbALMjYsNytv8AflL+3RZzh12MMvNx4DFW7M60O3BLZj4M/K3dtN0oxqS0tXZcBHyeIgnYn6K70P8DLu7mfRwBfAf4PfCeMt6fAp29/5nAwxT79YcUyeUp5bQ7y9cAx1e85zu7iqEjmXkHcDtwVLt41wE+AJyXmcsqJk2hm89aROwP/IGizg4G/gsYA9wUERuV82wGXE6RdH0QOIBizMuonr4HSasfWyYkre4eL3+v38n0NwLrUlxJnldR/hOAzPxbRPytLLstM5d2sI5/AP/RbqB3Z/G8Ftg5MxeU8/2B4oT588Ah3b6bUpVxtcUyhKKf/Q2ZeVBF+f3ATcBHKLoNtRkLTM7M58r5nqI4id2P4qS6M18FHgHe1RZPRNwCPECRnHwqM++KiCfK91BN151ZwHsjYnCZJOwO/LqcdlP5+vyI2BTYiKLFgojYjeLE98OZeWE5/+8j4lngooiYnJlz22+sHBz+ReB3mXlERflTwC87ifGnmdnWSvT7iHgb8CHgi5n5QkTcV077ax26K50N/G9EbJyZj5VlhwJrUySYlar5rH0PmJWZ72lbKCKup6jHaRQtMtuV6/9Y2RUL4I+9fB+SVhO2TEha3Q0qf7d2Mv1Biq4x50bEwW1XY3voN5WJRDdubTu5A8jMF3l1sHZfCYoTyxWuyJfdlh4D9mg3/y1tiUTpnvL3xE43EDGK4qTz55WJTWY+Cvypg21U60bK5CYixgKTKJIIKLrjtLVMtP2eVf7el6Kb1WURMbTtB7i23fztvaH8ubRd+W+BzhK29i0r99DFvuqln1F8Xo+sKDsKuDIz/9Zu3i4/axGxJbA5cHG7fbQYuIVX99FcYAnws4g4MCJe2wfvS9IqymRC0uquLTno8K5Kmfk88HbgSYqrvo9HxL0R8b4ebKMnd2z6RydlG3ZQXi+vKX93FOdTFdPbPFv5ohykDDC8i22sS5G4VbuNalWOm9iFojvabWXZTcCmEfGGcvpLvNp96LUUV9MXUZwIt/08XU4f38n22lqwnq4sLLsP/bOTZZ5t97qZomtd3ZVjPWYAHylP/ncDtgbO6WD27j5rbUnB/7LiPloCvJtyH5VjUvahOGeYCTwVEbeWYy0kreFMJiSt7vanGMNwR2czZObczHwfxQnvzhT9338REdtUuY1qWyWgeK5CR2VPVLx+meJEuL1aT8jbTnZf38G017PyyXAtnqPYD3XdRmY+SJGg7F7+zGkbPA3cW263bdotFa0iz1Dsxx06+Tm3k022JUMrXH0vu4qtV8t76AM/pNin76FolZhPMe6nve4+a8+Uv0+h4300tW2hzLw+M/elGDeyF0UrzZXl3bUkrcFMJiSttsrWhQOAczJzcXfzZ+bSsk/7Fyj+P7bdwrTtyvyIDhfsmZ0qu1JFxBiKhOeWinkeA7aKiLUr5tudYmBspWrjSoor0gdVFkbEv1PcWemGHsTf8QYyF1EkbO8vT7zbtrEx8O+93MaNFIPMd+fVLk6UXctuphgbsQWvdnECuJqiJWVcZs7p4OfJTrb1t/Kn/W1n30vt4wzr+fmhHHx+LcWdqg4EftzJLXa7+6wlRSLypk720bz2K8zM5sz8I8XtlkdR3CVL0hrMAdiSVheTy6uka1P0V383xQnhdbx6Z52VRMS7Ke7C9BuKu9WMorjrzou8etLVNoB2WkT8DliWmXNqjPMfwLXlrV2bKW7bOYoVH0T2szKm88tbfm5KcVee59utq6q4yluFnkoxLuQiirscbQh8jWLMyPk1vpf2vkDRJ/+KiDgbGA18uYz7zF6s90aKhGE9ilv4VrqJ4i5NbfMBkJk3RMQlFGMmvg38GWihuIXvfhS3q32g/YYys6W8zeuPI+I8irETm1Hc/er5ch099QDFlfyPlAPAm4tN5Ys1rKvN2RTjOJbw6l292uvys5aZrRFxLPDbMnH9BUVXrtdRJICPZ+a3I+JoikTuKmABRT2cQtE18F4krdFsmZC0uriU4uT/GoqT5GEUV+L3regW05EHgSaKE+HfUfRHXwrsXTGg9QqKk7djym3c3os4Z1GcWH8d+DnF1fN3VZ7Yls8BOBp4G/B/wOEUt+38V7t1VR1XZv6I4g4+21KchH6TItHao2xV6LXMvJriyvc6FCem51DcinbXLloCqtHW4tBKMZi70k0UYzVepkgYKh0MfIni6v1vKZ7/8HGKOu9oPEHb+zgP+CSwd7nc/yvX1crKCV23MvOZcruTyvdyO7B9T9fTzpUUn9vfZmZn76Waz9pVFInCKIq7QV1D8dl4Pa8m03eX06dTtIicRZF4vyMzm3r5PiSt4ga1tvakq68kSWueiHgrRRJwaGbObIB49qY4sd8rM//QwfT5FM/cOLifQ5O0hrGbkyRJFcpnVhxL0erxAsXYmc9SXI3v7FkT/SIiNqfodvUd4M6OEglJ6k8mE5IkraiJ4sndh1Lc8vY5iqdhn1zNQP4+9gWKLld3U8QnSQPKbk6SJEmSauIAbEmSJEk1WZ27OQ2jeOjO3ymemCpJkiSpZ4YA61PchKK5/cTVOZnYgYqHG0mSJEmq2W7A7PaFq3My8XeA555bREuL40IkSZKknho8eBDrrjsKynPr9lbnZGIZQEtLq8mEJPWjF154nunTv8Ltt9/KuHHrcNRRH+ed79x3pfnuvHMOM2b8mAceuJ8xY8Zy2WX/t3zaU089xSGHvH+F+Zuamjj22E/woQ/56ARJGgAdDhtYnZMJSdIAOPPMb7DWWmtx+eXX8uCDD3DSSSewxRZbstlmm68w3/Dhw9l//wPYa699mDlzxgrTXv/613Pdda/2VH3yySc46KD/YMqUd/TLe5AkVce7OUmS6qapqYlZs/7IEUcczciRI5k0aTK77ro711xz1Urzbr31Nuy77/5ssMGG3a736quvZNKkt7D++hv0RdiSpBqZTEiS6mbBgscYMmQIEyduvLxs88234tFHH6l5na2trVx99ZW8613vrkeIkqQ6MpmQJNVNU1MTo0aNXqFs9OjRLF68qOZ1zps3l+eee5YpU/bsbXiSpDozmZAk1c2IESNYtOilFcoWLVrEyJGjal7n7353BXvs8Q5GjhzZ2/AkSXVmMiFJqpuNNtqYZcuWsWDB48vLHnroATbddLOa1tfc/DLXX/97uzhJUoMymZAk1c2IESPYY4+3c95559DU1MS8eXOZPXsW++yz30rztrS00NzczNKlS2ltbaW5uZklS5asMM+sWTcwZsxYttvurf31FiRJPdBvt4aNiN8AmwItwEvAcZk5NyLmAy+XPwCfycxrymV2As4FRgDzgYMz8+n+ilmS1HPTpp3M9OmnMXXq3owdO45p005hs8025+677+LEE49ffsvXuXPv5Pjjj16+3J577sLkydtx1lk/Wl529dVXsM8++zFo0KB+fx+SpO4Nam3tnwe6RcS4zHy+/Ps9wBczc7symXh3Zt7bbv7BwAPAYZk5OyI+D2yWmR+pcpObAI8+88xLPrROkiRJqsHgwYMYP340FI0C81ea3l+BtCUSpXEULRRd2R54OTNnl6/PAT7QF7FJkiRJ6rl+fQJ2RJwHvBMYBOxbMeniiBgEzAY+m5n/AiYCj7XNkJn/jIjBEfGazHy22m2WmZQkrXGWvbKEIWuvNdBhrBbcl5LUsX5NJjLzCICIOAT4FrAfsFtmLoiIYcB3gbOAg+u1Tbs5SVpTTZgwhqsOPXygw1gt7HfhDBYufHGgw5CkflfRzanj6f0Yy3KZORN4e0SMz8wFZVkzcDawSznb48DyR6hGxHpAS09aJSRJkiT1nX5JJiJidERsVPF6KvAs8HJEjCvLBgEHAXPL2e4ARkTEruXro4FL+yNeSZIkSd3rr25Oo4BLI2IUsIwikZgKvA74ZUQMAYYA9wHHAGRmS9kd6tyIGE55a9h+ileSJElSN/olmcjMfwA7dTL5LV0sdzOwbZ8EJUmSJKlXfAK2JEmSpJqYTEiSJEmqicmEJEmSpJr063MmJEmSpFXRCy88z/TpX+H2229l3Lh1OOqoj/POd+670nx33jmHGTN+zAMP3M+YMWO57LL/W2H6gQdO5dlnn2XIkOKa/jbbvJnvfOcH/fIe+oLJhCRJktSNM8/8BmuttRaXX34tDz74ACeddAJbbLElm222+QrzDR8+nP33P4C99tqHmTNndLiub3zj2+yww9v6I+w+ZzcnSZIkqQtNTU3MmvVHjjjiaEaOHMmkSZPZddfdueaaq1aad+utt2Hfffdngw02HIBI+58tE5IkSVIXFix4jCFDhjBx4sbLyzbffCvmzr2zpvWddtoXaG1tYcstg2OOOYEtt9yqXqH2O1smJEmSpC40NTUxatToFcpGjx7N4sWLeryuU0/9CpdddjmXXXYF2233VqZNO44XX3yxXqH2O5MJSZIkqQsjRoxg0aKXVihbtGgRI0eO6vG63vzmyQwbNpzhw4dzyCGHM3r0aO6++656hdrvTCYkSZKkLmy00cYsW7aMBQseX1720EMPsOmmm/V63YMGDQJae72egWIyIUmSJHVhxIgR7LHH2znvvHNoampi3ry5zJ49i3322W+leVtaWmhubmbp0qW0trbS3NzMkiVLAHjqqaeYN28uS5Ysobm5mZ/+9EKef/5fbLvtpP5+S3XjAGxJkiSpG9Omncz06acxderejB07jmnTTmGzzTbn7rvv4sQTj+e6624CYO7cOzn++KOXL7fnnrswefJ2nHXWj1i8eBFnnnk6TzzxN9ZeexhbbrkVZ5zxfcaNW2eg3lavDWptXXWbVbqxCfDoM8+8REvLavseJalTEyaM4apDDx/oMFYL+104g4ULV90BkpJUq8GDBzF+/GiATYH57afbMiFJkqRVxrrjRjB0bU9h62HpK0t57vmmXq3DmpAkSdIqY+jaQ7n77BsGOozVwqRjpvR6HQ7AliRJklQTkwlJkiRJNTGZkCRJklQTkwlJkiRJNTGZkCRJklQTkwlJkiRJNTGZkCRJklQTkwlJkiRJNTGZkCRJagAvvPA8p5xyInvttSvve9+7ufbaqzuc784753DccUexzz57cOCBUztd31133cGuu76VH/3o7L4KWTKZkCRJagRnnvkN1lprLS6//FpOPfWrnHnmdB555OGV5hs+fDj7738AxxxzQqfrWrp0Kd/73plsvfU2fRmyZDIhSZI00Jqampg1648cccTRjBw5kkmTJrPrrrtzzTVXrTTv1ltvw7777s8GG2zY6fouueQidtzxbWy88SZ9GLVkMiFJkjTgFix4jCFDhjBx4sbLyzbffCseffSRHq/rqaf+zpVXXs5hhx1ZzxClDplMSJIkDbCmpiZGjRq9Qtno0aNZvHhRj9f13e9+iyOPLFo4pL7Wb8lERPwmIu6OiLsi4qaImFyWbxURt0TEA+XvLSuW6XSa1NccCNe4rBtJq5sRI0awaNFLK5QtWrSIkSNH9Wg9s2ffyOLFi9lzz3fWMzypU0P7cVsfzsznASLiPcD5wHbAOcAPMvOiiDgYOBd4R7lMV9OkPlU5EO7BBx/gpJNOYIsttmSzzTZfYb62gXB77bUPM2fO6HBdDoSrL+tG0upmo402ZtmyZSxY8DgbbTQRgIceeoBNN92sR+u5447buf/+v3LAAfsA8NJLLzFkyGAeeeQhTj/923WPW+q3lom2RKI0DmiJiNdSJBSXlOWXANtFxISupvVXzH3Nq6uNy4Fwjcu6kbQ6GjFiBHvs8XbOO+8cmpqamDdvLrNnz2KfffZbad6Wlhaam5tZunQpra2tNDc3s2TJEgCOPPJoLrnkl8yYcTEzZlzMrrvuztSp7+Wzn/1if78lrSH6s2WCiDgPeCcwCNgX2Ah4IjOXAWTmsoh4siwf1MW0hdVuc/z40d3PNECmT/8io0eP4Oabb+avf/0rRx11FDvuOJktt1yxN9f664/noIM+QHNzM+eeey4TJoxZaV1LlizhBz/4DpMmTWLkyLU7nEfVu+++BQwdOpTtt3/1avWkSdty++23d7pv11lnJEOGDF5p+hNPPME111zBr371K77yla9YP71k3Wig+NlQX/v617/KZz/7WQ444J2ss846fPnLX+Ztb5vMnDlzOPLII7nrrrsAuO222zj00EOXL7fnnruw4447MnPmTGDFz+m4caN5zWvGsfnmb+jPt6JVSG//t/VrMpGZRwBExCHAt4Av9PU2n3nmJVpaWvt6Mz3W1NTENddcw4UX/pzFi1vYeONgl11245JLLuVjHztuhXnXX39T1l9/U26//TaWLWth4cIXV1rfzJk/YbvtduC5555j8eJXOpxH1XvyyX8ycuSodvtxLZ577vlO9+2//rW4w/o59dQvcfjhH2Xx4hZefnmJ9dNL1k31PPmtr9Xps6FGNYQvf/kbK5QsXPgiG28cXHvtjcs/g5tttjWzZ89ZaemOPqPTpn2u02mrKv+31Vd3n43Bgwd1eXG+X5OJNpk5MyJ+BPwN2DAihpQtD0OADYAFFC0TnU1b5XV2C7i5c+/s8brabgF3/vkX8Z3vfLOeYa6xHAjXuKwbSX1t3Ni1WXvYsIEOY7XwSnMzz7/wykCHoT7UL8lERIwG1s3MBeXrqcCzwNPAXOBDwEXl77syc2E5X6fTVnXeAq6xORCucVk3kvra2sOG8e1TjhroMFYLn5p+LmAysTrrr5aJUcClETEKWEaRSEzNzNaIOBq4ICJOBZ4DDq1YrqtpqzSvrja2yoFwJ5/8BR58MJk9exY//OH5K83b0tLCkiVLVhgIN3jwYNZaay2OPPJoDj74w8vn/d73zmS99dbjsMOO6M+3s1qxbiRJahz9kkxk5j+AnTqZdj/wtp5OW9V5dbXxTZt2MtOnn8bUqXszduw4pk07hc0225y7776LE088nuuuuwmAuXPv5Pjjj16+3J577sLkydtx1lk/YuTIUSskiMOGDWP48BGMHTuu39/P6sS6kSSpMQxqbW28wcl1sgnwaKMOwAb44hdPAQYtv7r66U+fwA9/eP5K98pvu7p6551zOOOM6fz0p79cfnV18eJFNDU1LZ+38uqqJ0XSmm3ChDFcdejhAx3GamG/C2esVgNY1bUJE8bYzalOPjX93LofOxMmjOHus2+o6zrXVJOOmdKTAdibAvNXmt4nkakq06adzCuvNDN16t586UufW+Hq6t5777Z8vrlz72TPPXfh058+gX/84yn23HMXPvnJYwEYOXIU48evt/zHq6uSJEnqLwNyNycVxo4dx/TpZ65UPmnSW5Z30wDYbru3dngLuI587nNfqld4DWPdcWszdG3vqlEPS19p5rnn6zcQbuy4YQxbe+26rW9N1vzKK7zwfPNAhyFJUo+YTKjhDV17GHd800Gx9bD9SedRz7tqDFt7bQ6bcULd1rcm+8nh3wNMJiRJqxaTCWDM2OEMH7bWQIexWni5eQkvvvDyQIchSerECy88z/TpX+H2229l3Lh1OOqoj/POd+670nx33jmHGTN+zAMP3M+YMWO57LL/W2H6cccdxaOPPswrryxh/fU34IgjjmK33ab007uQ1ChMJoDhw9biv066eKDDWC389Jv/zYuYTEhSozrzzG+w1lprcfnl1/Lggw9w0kknsMUWW65084/hw4ez//4HsNde+zBz5oyV1nPCCSeyySabMnToUP7yl3v5xCeO4ZJLfsV6663XX29FUgNwALYkSWuIpqYmZs36I0ccUTzodNKkyey66+5cc81VK8279dbbsO+++7PBBht2uK4tttiSoUOLa5KDBsGyZUt5+umn+jR+SY3HlglJktYQCxY8xpAhQ5g4cePlZZtvvhVz595Z0/pOOukTzJnzZ1555RV23HFn3vjGresVqqRVhMmEJElriKamJkaNGr1C2ejRo1m8eFFN6/vmN7/L0qVLuf3223jssUcZPNgOD9KaxqNekqQ1xIgRI1i06KUVyhYtWrTC0+B7aujQoey88y78+c+3MXv2rN6GKGkVYzIhSdIaYqONNmbZsmUsWPD48rKHHnqATTfdrNfrXrZsGU888bder0fSqsVkQpKkNcSIESPYY4+3c95559DU1MS8eXOZPXsW++yz30rztrS00NzczNKlS2ltbaW5uZklS5YA8Nhj87nllj/R3PwyS5cu5ZprruLuu+9k8uTt+/stSRpgjpmQJGkNMm3ayUyffhpTp+7N2LHjmDbtFDbbbHPuvvsuTjzxeK677iYA5s69k+OPP3r5cnvuuQuTJ2/HWWf9iNbWVs4//0eceuqjDBkymDe8YSJf/vJ0It44UG9L0gAxmZAkaQ0yduw4pk8/c6XySZPesjyRANhuu7cye/acDtexySab8uMfX9BnMUpaddjNSZIkSVJNbJmQJGkAjBs7grWH+TXcW680L+X5F5oGOgxpjeV/MUmSBsDaw4by9c9dNtBhrPI++7UDBzoEaY1mNydJkiRJNTGZkCRJklQTkwlJkiRJNTGZkCRJklQTkwlJkiRJNTGZkCRJklQTkwlJkiRJNTGZkCRJklQTkwlJkiRJNTGZkCRJklQTkwlJkiRJNRnaHxuJiPHATGBz4BXgQeCozFwYEa3APUBLOfshmXlPudxU4FtlnHcAh2fm4v6IWZIkSVLX+qtlohX4ZmZGZm4LPAycXjH93zNzcvnTlkiMBn4MTM3MLYAXgRP7KV5JkiRJ3eiXZCIzn83MGyqKbgU27maxdwFzMvPB8vU5wAf7IDxJkiRJNeiXbk6VImIw8DHg8oriGyJiKPA74EuZ2QxMBB6rmOdxYKOebm/8+NG9iFa1mDBhzECHoC5YP43Lumls1k/jsm4am/XT2HpbP/2eTAD/A7wEnFW+npiZCyJiLMW4ii8An6/Xxp555iVaWlq7nMcPeX0tXPhiXddn/dRXPevHuqkvj53GZv00LuumsVk/ja27+hk8eFCXF+f79W5OEXEGsCXwwcxsAcjMBeXvF4DzgF3K2R9nxa5QE4EF/RetJEmSpK70WzIREV8HtgfeW3ZjIiLWjYgR5d9DgQOBueUiVwM7RMSW5eujgV/0V7ySJEmSutajZCIiNoqInXq6kYh4E3AKsAFwc0TMjYhfA28EbouIu4F5wBKKbk5k5ovAR4ErIuIhYBxwRk+3LUmSJKlvVDVmIiImApcAkylu8zo6Ig4E9s3MI7pbPjP/AgzqZPKbu1jut8Bvq4lRkiRJUv+qtmXiXOBKYAxF6wHAdcDefRGUJEmSpMZXbTKxI3B6OWi6FSAzn6foeiRJkiRpDVRtMvEPYIvKgojYmuKOS5IkSZLWQNUmE2dQDIQ+HBgaER8Cfg58o88ikyRJktTQqkomMvN84NPA+yme9fBh4AuZeXEfxiZJkiSpgVX9BGzvrCRJkiSpUqfJRER8pJoVlK0WkiRJktYwXbVMHFLF8q2AyYQkSZK0Buo0mcjMt/dnIJIkSZJWLVWPmYiIdYD9gQ2AJ4ErM/NffRWYJEmSpMZW1d2cIuIdwHzgeGAH4DhgfkTs2XehSZIkSWpk1bZMnAV8NDN/0VYQEe8HfgC8sS8CkyRJktTYqn1o3QbAL9uV/Rp4fX3DkSRJkrSqqDaZmAkc267sY8CF9Q1HkiRJ0qqi2m5ObwGOjoiTgCeADexT+wcAAB5mSURBVIHXArdFxI1tM2Xm7vUPUZIkSVIjqjaZ+HH5I0mSJElAlclEZl7Q14FIkiRJWrX05DkTh1M8FXtDiq5OMzNzRl8FJkmSJKmxVfucic8BJwM/o3jWxM+Ak8pySZIkSWugalsmjgCmZOZjbQURcQ1wI/C1vghMkiRJUmOr9tawo4CF7cqeAUbUNxxJkiRJq4pqWyauBi6OiJOBx4GNKVokrumrwCRJkiQ1tmpbJj4OvAjMAxYBc8vfx/VRXJIkSZIaXLW3hn0BODQiDgPWA/6ZmS19GZgkSZKkxtaTW8O+EXg/8LrM/HhEBDAsM+f1WXSSJEmSGla1t4Z9P3ATxTMmDi2LxwDf7qO4JEmSJDW4asdMnAbslZlHA8vKsruBSX0SlSRJkqSGV20y8VqKwdcArRW/WzueXZIkSdLqrtoxE3cAhwAXVpQdBPy5moUjYjwwE9gceAV4EDgqMxdGxE7AuRTPrJgPHJyZT5fLdTpNkiRJ0sCqtmXieOCrETELGFU+/forwCerXL4V+GZmRmZuCzwMnB4Rg4GLgGMzcyuKJ2qfDtDVNEmSJEkDr6pkIjPvB94I/AD4PDAD2DYzH6xy+Wcz84aKolspHny3PfByZs4uy88BPlD+3dU0SZIkSQOs6lvDZubiiPgT8CjwZGa+VMsGyxaHjwGXAxOBxyq28c+IGBwRr+lqWmY+W+32xo8fXUuY6oUJE8YMdAjqgvXTuKybxmb9NC7rprFZP42tt/VTVTIREROBi4GdgOeAdSPiVooxDI91ufDK/gd4CTgL+I8eLttjzzzzEi0tXY8T90NeXwsXvljX9Vk/9VXP+rFu6stjp7FZP43Lumls1k9j665+Bg8e1OXF+WrHTFxAMQh7ncx8LbAuMKcsr1pEnAFsCXywfIL24xTdndqmrwe0lC0PXU2TJEmSNMCqTSa2Bz6dmYsAyi5OnynLqxIRXy/nf29mNpfFdwAjImLX8vXRwKVVTJMkSZI0wKodM3ErsCPwp4qytwK3VLNwRLwJOAV4ALg5IgAezcz/iIhDgHMjYjjl7V8BMrOls2mSJEmSBl61ycTDwFURcSWwANgI2A/4aUSc1jZTZp7a0cKZ+RdgUCfTbga27ek0SZIkSQOr2mRiOPCr8u/XAs3ArykeJrdRWe7TsCVJkqQ1SFXJRGYe3teBSJIkSVq1VDsAW5IkSZJWYDIhSZIkqSYmE5IkSZJq0mkyERHfqvj7Hf0TjiRJkqRVRVctEx+t+Ps3fR2IJEmSpFVLV3dzujsiLgPuA4ZVPk+iUmfPlpAkSZK0eusqmTiQonViY4oHzm3UwTw+W0KSJElaQ3WaTGTm08BXASJiqM+akCRJklSp6ofWRcS6wFRgQ+AJ4IrMfLYvg5MkSZLUuKq6NWxE7Aw8DBwNvBk4CnioLJckSZK0BqqqZQL4LnBMZv6srSAiPgh8H9ihLwKTJEmS1NiqfWjdVsAv2pVdBmxR33AkSZIkrSqqTSYeBA5qV/Z+iq5PkiRJktZA1XZz+gRwRUQcDzwGbAJsCby7j+KSJEmS1OCqapnIzJuBzYGzgDuA/wG2KMslSZIkrYGqbZkgM58DLurDWCRJkiStQqodMyFJkiRJKzCZkCRJklQTkwlJkiRJNTGZkCRJklSTXiUTEXFlvQKRJEmStGrpbcvE7LpEIUmSJGmV06tkIjOn1ysQSZIkSauWqp8zEREjgS2A0ZXlPrhOkiRJWjNVlUxExKEUT79+BWiqmNQKTOyDuCRJkiQ1uGpbJr4JvC8zr6t1QxFxBvA+YBNg28y8tyyfD7xc/gB8JjOvKaftBJwLjADmAwdn5tO1xiBJkiSpfqodM/EKcEMvt/UbYHfgsQ6mHZiZk8uftkRiMHARcGxmbgXcCJzeyxgkSZIk1Um1ycQXgG9HxHq1bigzZ2fmgh4ssj3wcma23THqHOADtW5fkiRJUn1Vm0w8ABwA/CMilpU/LRGxrE5xXBwR8yLi7IhYpyybSEUrRmb+ExgcEa+p0zYlSZIk9UK1YyZmAhcCP2fFAdj1sFtmLoiIYcB3KQZ6H1yvlY8fP7r7mVRXEyaMGegQ1AXrp3FZN43N+mlc1k1js34aW2/rp9pkYjxwama29mprHWjr+pSZzRFxNnB5OelxYOO2+couVi2Z+WxP1v/MMy/R0tJ12H7I62vhwhfruj7rp77qWT/WTX157DQ266dxWTeNzfppbN3Vz+DBg7q8OF9tN6cZwCHVh1WdiBgVEePKvwcBBwFzy8l3ACMiYtfy9dHApfWOQZIkSVJtqm2Z2BH4eER8DvhH5YTM3L2aFUTE94H/BF4P/D4ingGmAr+MiCHAEOA+4JhyvS0RcQhwbkQMp7w1bJXxSpIkSepj1SYTPy5/apaZxwPHdzDpLV0sczOwbW+2K0mSJKlvVJVMZOYFfR2IJEmSpFVLVclERHyks2mZeX79wpEkSZK0qqi2m1P7wdevBzYH/gSYTEiSJElroGq7Ob29fVnZWvFvdY9IkiRJ0iqh2lvDduQnwP+rUxySJEmSVjHVjplon3SMpLhN67/qHpEkSZKkVUK1YyaWAu0fI/0EcGR9w5EkSZK0qqg2mdi03etFmfnPegcjSZIkadVR7QDsx/o6EEmSJEmrli6TiYi4npW7N1Vqzcw96xuSJEmSpFVBdy0TF3VSviFwPMVAbEmSJElroC6Ticz838rXETEeOIVi4PXPgdP6LjRJkiRJjazaW8OOBT4NfBy4AtguMx/uy8AkSZIkNbbuxkyMAD4BTANuAHbNzL/0Q1ySJEmSGlx3LRPzKZ6S/U1gDvC6iHhd5QyZ+ce+CU2SJElSI+sumWiiuJvTxzqZ3gpsVteIJEmSJK0SuhuAvUk/xSFJkiRpFTN4oAOQJEmStGoymZAkSZJUE5MJSZIkSTUxmZAkSZJUE5MJSZIkSTUxmZAkSZJUE5MJSZIkSTUxmZAkSZJUE5MJSZIkSTUxmZAkSZJUE5MJSZIkSTUZ2h8biYgzgPcBmwDbZua9ZflWwAXAeOAZ4NDMfLC7aZIkSZIGXn+1TPwG2B14rF35OcAPMnMr4AfAuVVOkyRJkjTA+iWZyMzZmbmgsiwiXgtsB1xSFl0CbBcRE7qa1h/xSpIkSereQI6Z2Ah4IjOXAZS/nyzLu5omSZIkqQH0y5iJgTR+/OiBDmGNM2HCmIEOQV2wfhqXddPYrJ/GZd00NuunsfW2fgYymVgAbBgRQzJzWUQMATYoywd1Ma1HnnnmJVpaWrucxw95fS1c+GJd12f91Fc968e6qS+PncZm/TQu66axWT+Nrbv6GTx4UJcX5wesm1NmPg3MBT5UFn0IuCszF3Y1rf8jlSRJktSRfkkmIuL7EfE34A3A7yPiL+Wko4HjIuIB4LjyNVVMkyRJkjTA+qWbU2YeDxzfQfn9wNs6WabTaZIkSZIGnk/AliRJklQTkwlJkiRJNTGZkCRJklQTkwlJkiRJNTGZkCRJklQTkwlJkiRJNTGZkCRJklQTkwlJkiRJNTGZkCRJklQTkwlJkiRJNTGZkCRJklQTkwlJkiRJNTGZkCRJklQTkwlJkiRJNTGZkCRJklQTkwlJkiRJNTGZkCRJklQTkwlJkiRJNTGZkCRJklQTkwlJkiRJNTGZkCRJklQTkwlJkiRJNTGZkCRJklQTkwlJkiRJNTGZkCRJklQTkwlJkiRJNTGZkCRJklQTkwlJkiRJNRk60AEARMR84OXyB+AzmXlNROwEnAuMAOYDB2fm0wMRoyRJkqQVNUQyUTowM+9texERg4GLgMMyc3ZEfB44HfjIQAUoSZIk6VWN3M1pe+DlzJxdvj4H+MAAxiNJkiSpQiMlExdHxLyIODsi1gEmAo+1TczMfwKDI+I1AxahJEmSpOUapZvTbpm5ICKGAd8FzgJ+XY8Vjx8/uh6rUQ9MmDBmoENQF6yfxmXdNDbrp3FZN43N+mlsva2fhkgmMnNB+bs5Is4GLge+B2zcNk9ErAe0ZOazPVn3M8+8REtLa5fz+CGvr4ULX6zr+qyf+qpn/Vg39eWx09isn8Zl3TQ266exdVc/gwcP6vLi/IB3c4qIURExrvx7EHAQMBe4AxgREbuWsx4NXDowUUqSJElqrxFaJl4H/DIihgBDgPuAYzKzJSIOAc6NiOGUt4YduDAlSZIkVRrwZCIzHwHe0sm0m4Ft+zciSZIkSdUY8G5OkiRJklZNJhOSJEmSamIyIUmSJKkmJhOSJEmSamIyIUmSJKkmJhOSJEmSamIyIUmSJKkmJhOSJEmSamIyIUmSJKkmJhOSJEmSamIyIUmSJKkmJhOSJEmSamIyIUmSJKkmJhOSJEmSamIyIUmSJKkmJhOSJEmSamIyIUmSJKkmJhOSJEmSamIyIUmSJKkmJhOSJEmSamIyIUmSJKkmJhOSJEmSamIyIUmSJKkmJhOSJEmSamIyIUmSJKkmJhOSJEmSamIyIUmSJKkmJhOSJEmSajJ0oAPoTkRsBVwAjAeeAQ7NzAcHNipJkiRJq0LLxDnADzJzK+AHwLkDHI8kSZIkGrxlIiJeC2wH7F0WXQKcFRETMnNhN4sPARg8eFBV21pv3VG1hql2qt3nPbH22PF1X+eaqt71s97o19R1fWuyvjh2RqznsVMvfVE/49YZWfd1ron6om7GruOxUy99UT9rjRle93Wuqbqrn4rpQzqaPqi1tbXOIdVPRGwPXJiZb6oouw84ODPv7GbxXYGb+jI+SZIkaQ2xGzC7fWFDt0z00u0Ub/rvwLIBjkWSJElaFQ0B1qc4t15JoycTC4ANI2JIZi6LiCHABmV5d5rpIHuSJEmS1CMPdzahoQdgZ+bTwFzgQ2XRh4C7qhgvIUmSJKmPNfSYCYCIeCPFrWHXBZ6juDVsDmxUkiRJkho+mZAkSZLUmBq6m5MkSZKkxmUyIUmSJKkmJhOSJEmSamIyIUmSJKkmJhOSJEmSatLoD63rNxExH3gJeHNmtlSUvTsz7+3nWDYB5mTmep1MH0lxm9yJmfmPsmwO8Ghmvr98/Vbg15m5URfbOQDYLTM/3U08U4AzMvOtncT6zsz8URVvrXK5YcDXgfcCS4Am4MuZ+ZuerKcvRcTRwIjM/E438x1G8Tk5sINpk4GtMvMXta6jnrrbTlkvdwCvA57Beul0HfVUzXYi4icU/xfO6mlcXR1v9X6PEXEecEFm3hQR7wWezMw/17CebYGZ5cvXAGOB+eXrH2fmD+oRbxfbn0In//e6WW4+ffC9EREfA06gqLvdgYMrXr8X+Elmvr2bdVwFHJeZnT58qoo4PgH8tHwOVGfzfBUYn5kfK1+/G/g/YJvM/EtZdgXFd9T/9jbeiLiBoq6u6GDaYcDNmflAd++tg2U9bnq+/SlUHDcR0QqMycyX6rgN66Xn259CJ/XS1fFTLZOJFY0GDqF4rkWPRcTQzFxa35BWlpmLI+LPwBTg5xExFhgJbFsx2xTghm7WczlweS/D2QT4KNCjZAI4m2J/vykzX46IbYCrI+LZzLyxlzHVpS4y85zexgFMBt4NdHnS2kDOBkYBX8vM71ovq41Oj7d6bygzj6h4+V5gDtDjL9/MvIeinvotqWtwxwOHZObtABGxwmugy0QCIDP3q0McnwB+D3SaTADXA2dVvN4DuI3ie+kvETEE2JUiGepUneI9DPgn0ONkAo+bRmW9NBiTiRV9CfhiRFySma+0FUbEFsC5wARgKfDZzLy6nNYKfBnYn+LDvBHQDGwJbA78iuKKzJeBjYDvZOb3ymXPoPgnuzbFP7uPZOZjVcZ6A2UyQfFP+UZgw4h4U3nlZ0q5bSLiw8AxFPX9PPCxzMz2H+iI+BrwQYor0jcAe1ZclRsaEecCOwOtwEGZ+VfgB8CmETEXeKiagyMiNi63MzEzXwbIzHvL7X8xIiYCB2bm3eX8Hwe2z8zDIyKA7wLrlfvtu5k5o5yvfV3sBRyfmbdHxNnAHpn5pogYCjwFbJyZiyLiM8D7yv3zBHBkZj4VEV8CRmfmiRGxNsWX4xSKL9G5wOsr3u/YiPg5sA3wr3J9S4DTymlzgRsz8/ju9k+7fTUW+DbwZmA4xZf0pyjq4X8y8y0V884BpmXmrM7qvJtttdXL5RSfc+ul833Vb/XSW90dbxRXy8ZFxOXAFhR1cEhmPlEu31k9vAf4KrCsnPbxzLyh7SoXxX4+ANgrIo6g2F8fpLiCfmm57v8Ejs7Md/bg/VzZ2TrKbc8F/p3i6t8vMvOz5XzrA/8DTARGAJdk5td7tjerV8ZyO8VnYoMylpPLaV8EPgS8TPH/9O3AOlS0SEdFC3X5Gd4cmBkRd1Ds78rXn2u37M7At4AxZTifzsxrK1tNutof5XwXAnsD61NctTwrIj5XvpfLIuJl4L8y874O3v7NFN8Lr8ui9XwPiv8Bh1F8Z7wFeCEzH64ijrZ4twZmUFzsmEvxWf1qxdXUPSLi5Mp9HRGHA28Fvl+2lpyYmb/vuuYKHjcDc9x0x3ppzHpxzMSK5lB08fhYu/KLKZp130zRtHxRREyomN6UmTtk5hfK128C3gX8G/Df5TJ7ALsAX4uI0eV8p5fLTQIuAb7Rg1ivpziBovw9iyKhmFJx1eeGiNgN+ACwe2ZuT/EFc377lUXEVIortZMovvy2bDfLm4Bzyn3wC+DzZfmxwH2ZObkHWfa2FIlH+6sIt5bbvwD4cEX54cCM8mTzp8AnM3OH8j2eHMVT0ttU1sUfgD3L8l2BpvIA3AH4a3nCejDFl/JOmbkdcBVwZgcxH0Vx0G4N7EXxBVVpB4ovqjcB91E0zT8DnAr8vtw/PTphLX0bmJWZO1Jc1XgtRdI5GxgdEW+G5U2o6wI3VlvnHdgWeAh4pV259bKy/qyX3urueIOiHj6dmVtT/C9pu+DRVT2cBnw0MyeX67mzcuWZeQ1FYnp6uZ8vpPjyO6ZitmMpTi57ort1bE3x5TsZmBpFFxsoTo6/X9bZ9sC7ImLvHm67pyZSdEl6C3BERGwZEa8BPgm8pdx3u1N0se1UZn4QeJIimf/v9q8r5y3X/2vgpPK7ZTuKpKa97vbHyMzcmeL75fSIGJ2ZX6vY7uROEgkys4ni6u2UiBhDkQBcTXlllhVbzqutl5kUifo2FBcudmg3faV9XV7QmENx8WJytYlEyeOmMBDHTVesl0JD1YstEyv7PHB9RLT14xxEUYkzADLzvvJq5k4ULQ6wcreo32RmM0BEJHBVFuMwnoiI54A3APdTVP6xFM11Pa2LWyiv/FAkKt+haPn4NEVz8vOZ+UgU/csnAbcVF48ZRHFy097bKbLeRWXcFwBfqJiemXlX+fetwNQexltpUDfTLyzjPYkiIVsHuKn8+9+An5XvBWBYWXZ/+bqyLv4AfC4iLqZobZlFcRK7KfDHcp4DKE5A7yzX2XbFuL23AzOz6KKzNCIuAXarmP6nzFxQ/n0rxRW9ejgA2DEippWvRwJ/K/++gOJK36fK3xdkZmuZGFZT5+1ZL9Xrz3rpre7qFWB25vIWkvOAe8q/u6qHPwLfiYhfAr/L6sYIXAN8NyL+rXy9OdDTfrrdreOC8vPwUkT8DHhHRLRdfJlQ8RkdQ/EZva6H2++JS8v//c9HxF/LWB+hSNovjIhrgSsy88WKuHprZ4oLPDcDZOYyijF2y0XEKLrfHz8rl5/f7nurWjeU23iB4vO1LCIejIg3leW/rDKOtpbAbSguWpCZcyJiXrvtdbSvH+xBvO153AzccdMV66UB68Vkop3MzCgGfX2qB4u1v6r0csXfyzp4PbRsqvsOsENmPhoR/075j7LKOJsi4jaK1oTRmfn3iFhIcRVqCq9e9RkEnJ+Zp/bg/XRkpffQi3XdA2wREa9pd3VhJ2BeZj4eEX+haN2ZQtEE2BoRg4B/llcOOlNZFzdT7I/9KU5gZwEfoThpbdsfgyiaynt7hbie+6fSIOC9mflIB9MuBG6NiM9SdJnYuWKZWur8Hopm4fZXG62XlfVnvfRWl8dbN8t2Wg+Z+cmy5eUdwKUR8e3M/HFXKys/L2fx6pW4c8uT3arVuI7BFN2JdsjMJT3ZXi+t9PkrT6p3omipfgdwR0TsCzzLir0FhvdhXNXsj94eO9dT9G1/nuIYh6L1fE+KK8fHVRlHpdYuptX7WPe4GbjjpivWSwPWi92cOvYliqamMRQVNpeye0eZPU6iuMrZG2MpupM8FRGDgaNrWMcNwGeAPwGU2evDFAOiry/n+T/g0Ih4A0BEDImI7TtZ14ERMbKM55AqY3gBGNeToDNzPnAp8MOIGF7GtQ1Fv98vl7P9BDiC4mSs7ap2AosjYnlsEfHG8qpVR9tppmiqPJliwOCtFF/gb+bV+rscOCYi1i3XNywiJnWwuhuA/46IoWXMH6zy7fZ4/7RzOUWXoSFlfOtFxKYAmfk4xYn/9ymuRLaNt6m2zldQUS87U34RWy+d6rd66a0qj7ddIqKta+PhvNpC1Gk9RERk5j1ZjAG7iJW7nUDH+/kCioGMH6S4aliLrtZxcPl5GEXRreyPmfkiRSvayW0zRcRGEfH6Grdfsyi6/UzIzFmZ+UXgXoqr7k8Ba0UxRg/gv2rcxC3A1lGMm2j7nK3QAtbL/VHtsXMLxQ063serF7duBD4O/CszH602jsx8AfgLxf8dImI7VrzhSD3iXYHHTWMdN22sl8asF5OJDmTm3yj6Z76mLPpvigqdRzF+4pDMXNjLbdxDcUDcR9Et6dEaVnM9xdiGWRVls8qyG8rt3EhxkF0eEXdTfHG9p4N4LqdobptHcUL3JB13K2lvHpARcW9EXNaD2I8pt3FfRNxPcfCekJlt7+VXFFe/7ytPztqSpanAQRExr7xKfjbFgN/O/IGiK8ntZQb/UPn3K+U6Z1LU6ayyfu+gOLFt7xzg7xT19Ufgr1S3f/4AjIqIuyPi+93Mu19E/K3i5ysUd05ZBtwdEfdQ9DvesGKZnwBHlr8p31NVdd6JY4DFwOetl+UaoV56q7vj7U/AGRFxH8WVuRPKmLuqh9PL434uRfexjsZ8zQT+KyLmRsSh5TpfpNhf19b6f7SbddxP0fp1N3BlvjpA978pTrLvKevs5xRd9frbOOA35bFyL0US8avyODoBuC6Ku/X16Apnm/Jq7X8C366os46S1lr3x/cpxkrNjWJQdGdxvEzx3UZmPlkW305xnNxQQxyHAp8o5zmR4gp1Ncf6j4BTy3j3qmL+Sh43jXPcVLJeGqxeBrW2dtVqqDVJRIzJou/uYIrs+MnM/Hx3y60pKvbPMIorHJdmZq1XIlQn1suqJYoB+/OAD+ertzWtyzqiDvdLV2OK4sYli8puIVtTJCSRmc91veTqweOmMVkvBVsmVOnCiLiL4irvMOCbAxxPo/l9edXiboqBfT8Z2HBUsl5WEVE8KPNhiitwtX7x9nodWiX9OzC3vKL8M4pbeq4piYTHTQOyXl5ly0QDi4jXAtd2MOlXmXlaf8ej3mmk+oyI/SieINreZzPzqv6MZaBZLwMvinvCT2xX/HhmHtAP257DyoN1b83MWsaxrVEi4lSKLlXtvTO7eEK26sPjpjGtifViMiFJkiSpJnZzkiRJklQTkwlJkiRJNTGZkCRJklQTn4AtSaqLiKh80vlIoJlXn5dwVGZe3P9RSZL6kgOwJUl1FxHzgSMy8/cDHIokqQ/ZMiFJ6jMRsTbFU573yMx7yrLXAvOBjYE3UTzB9mzgU8BLwOfaWjHKhxF+DfgAxfNvfg18MjOb+vedSJI64pgJSVKfycxXKB4ydnBF8Yf4/+3dv6tPcRzH8edNWUyKkisZdN+DhT9A3c1iYRCDbPIfWFCyKIOdUpdrYlI2BlkYmAz3VUo3uW6RW+TXguGccrrp9u10z/kano/tc96f4b2+er8/HXic5EN73gXsAGaBM8CNqqq2dhWYAw4C+9s7l0ZoXZI0AcOEJGloC8Cpqpppz6eBO+vuXEzyM8kT4CFwor1/lmYS8SnJF5qf+p0cq3FJ0sZcc5IkDSrJ86r6BsxX1XuaCcODzpW1JF8752VgN7CT5iH3i7+DCmaALcN3LUmahGFCkjSGBZpVp1XgfpIfndr2qtrWCRR7gVfAR+A7cCDJu1G7lSRNxDUnSdIYFoFjNIHi9j/ql6tqa1UdBo4C95L8Am4C19tH21TVbFUdGatpSdLGDBOSpMEleQu8BH4DT9eVV4E1YAW4C5xLstTWzgOvgWdV9Rl4BBSSpP+C/5mQJI2iqm4BK0kudL7NA4tJ9kytMUlSb76ZkCQNrqr2AceBQ1NuRZK0iVxzkiQNqqqu0DyovpbkzbT7kSRtHtecJEmSJPXiZEKSJElSL4YJSZIkSb0YJiRJkiT1YpiQJEmS1IthQpIkSVIvhglJkiRJvfwB2fDuADfTj7QAAAAASUVORK5CYII=\n",
            "text/plain": [
              "<Figure size 936x360 with 1 Axes>"
            ]
          },
          "metadata": {
            "tags": [],
            "needs_background": "light"
          }
        }
      ]
    },
    {
      "cell_type": "markdown",
      "metadata": {
        "id": "-36rmx75VfV6"
      },
      "source": [
        "#####**Explanation:<br>** \n",
        "17% of total 2111 people are in the Type I obesity group.<br>\n",
        "15% of total 2111 people are in the Type III Obesity group.<br>\n",
        "14% for each of Type II, Level I, II and Normal weight group.<br>\n",
        "13% of total 2111 people are in the Insufficient Weight group."
      ]
    },
    {
      "cell_type": "markdown",
      "metadata": {
        "id": "NZchJ5NlVfV7",
        "source": [
        "####**Scatterplot of Weight Types by Age**\n"
      ]
      },
      "source": [
        "####**<font size=3>Plot for Weight Types by Age**"
      ]
    },
    {
      "cell_type": "code",
      "metadata": {
        "id": "avYpmvpXVfV7",
        "outputId": "f3d78174-5ee8-42c0-b6ce-4aa2295e6a8a",
        "colab": {
          "base_uri": "https://localhost:8080/",
          "height": 520
        }
      },
      "source": [
        "plt.figure(figsize=(13,8))\n",
        "plt.scatter(x = df[\"Age\"], y=df[\"OverWeight/Obesity_Type\"],marker =\"o\")\n",
        "plt.title(\"Scatterplot of Weight Types and Age\",fontsize=16)\n",
        "plt.ylabel(\"Weight Type\")\n",
        "plt.xlabel(\"Age\")\n",
        "plt.show()"
      ],
      "execution_count": 11,
      "outputs": [
        {
          "output_type": "display_data",
          "data": {
            "image/png": "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\n",
            "text/plain": [
              "<Figure size 936x576 with 1 Axes>"
            ]
          },
          "metadata": {
            "tags": []
          }
        }
      ]
    },
    {
      "cell_type": "markdown",
      "metadata": {
        "id": "LyopkkVFVfV9"
      },
      "source": [
        "#####**Explanation:**<br>\n",
        "- From this graph we can see that large amount of people with overweight and obese are from 16 to 45 years old.\n",
        "    "
      ]
    },
    {
      "cell_type": "markdown",
      "metadata": {
        "id": "n8rx7RPwHEAW"
      },
      "source": [
        "#####**Plot Weight Types by Transportation Method**\n"
      ]
    },
    {
      "cell_type": "code",
      "metadata": {
        "id": "GiJZ7WfsVfWA",
        "outputId": "33120053-d528-40c8-cfdf-b48c5a331c4e",
        "colab": {
          "base_uri": "https://localhost:8080/",
          "height": 412
        }
      },
      "source": [
        "plt.figure(figsize=(13,6))\n",
        "sns.set(style=\"darkgrid\")\n",
        "\n",
        "ax = sns.countplot(x='OverWeight/Obesity_Type',hue='Transportation',data=df, saturation=1)\n",
        "\n",
        "ax.set_title('Weight Types by Transportation',fontsize=16)\n",
        "ax.set_xlabel('Weight Type')\n",
        "ax.set_ylabel('Count')\n",
        "plt.show()"
      ],
      "execution_count": 12,
      "outputs": [
        {
          "output_type": "display_data",
          "data": {
            "image/png": "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\n",
            "text/plain": [
              "<Figure size 936x432 with 1 Axes>"
            ]
          },
          "metadata": {
            "tags": []
          }
        }
      ]
    },
    {
      "cell_type": "markdown",
      "metadata": {
        "id": "KDrTBw54VfWD"
      },
      "source": [
        "#####**Explanation:**\n",
        "- From this graph we can see people using public transportation have the high chance to become overweight and obese.\n",
        "- The second high risk group are people using automobile."
      ]
    },
    {
      "cell_type": "markdown",
      "metadata": {
        "id": "H2jEClumVfWD"
      },
      "source": [
        "###**Hypothesis:**<br>\n",
        "\n",
        "1.For people who consume alcohol, males have a higher chance of being overweight and obese than females. <br>\n",
        "\n",
        "2.Smoking can increase the chance of being overweight and obese. <br>\n",
        "\n",
        "3.People with a family history of overweight have a higher risk of being overweight and obese."
      ]
    },
    {
      "cell_type": "markdown",
      "metadata": {
        "id": "Nzz32KRTVfWE"
      },
      "source": [
        "####**<font size=3>Hypothesis 1**\n",
        "For people who consume alcohol, males have a higher chance of being overweight and obese than females."
      ]
    },
    {
      "cell_type": "markdown",
      "metadata": {
        "id": "nwbfxPPqVfWE"
      },
      "source": [
        "Usually, people might think drinking alcohol can increase the chance of becoming overweight, especially for males.<br>\n",
        "So the first hypothesis is to test whether males who consume alcohol can have a high risk of being overweight or not.<br> First, we start with checking the weight distribution by gender."
      ]
    },
    {
      "cell_type": "code",
      "metadata": {
        "id": "9I3sCZCEVfWF",
        "outputId": "04897ae5-648d-403e-d255-3bdf20711d23",
        "colab": {
          "base_uri": "https://localhost:8080/"
        }
      },
      "source": [
        "# Check the weight types groupby gender\n",
        "df_by_gender = df.groupby(['OverWeight/Obesity_Type','Gender']).size()\n",
        "print (df_by_gender)"
      ],
      "execution_count": 13,
      "outputs": [
        {
          "output_type": "stream",
          "text": [
            "OverWeight/Obesity_Type  Gender\n",
            "Insufficient_Weight      Female    173\n",
            "                         Male       99\n",
            "Normal_Weight            Female    141\n",
            "                         Male      146\n",
            "Obesity_Type_I           Female    156\n",
            "                         Male      195\n",
            "Obesity_Type_II          Female      2\n",
            "                         Male      295\n",
            "Obesity_Type_III         Female    323\n",
            "                         Male        1\n",
            "Overweight_Level_I       Female    145\n",
            "                         Male      145\n",
            "Overweight_Level_II      Female    103\n",
            "                         Male      187\n",
            "dtype: int64\n"
          ],
          "name": "stdout"
        }
      ]
    },
    {
      "cell_type": "code",
      "metadata": {
        "id": "ZulE2as4VfWH",
        "source": [
        "####**Plot weight types groupby gender**\n"
      ]
      },
      "source": [
      "execution_count": 14,
      "outputs": []
    },
    {
      "cell_type": "code",
      "metadata": {
        "id": "ph_G8_HTVfWJ",
        "outputId": "b8a1a73a-b0c0-4bdf-9e47-1ee696a755fd",
        "colab": {
          "base_uri": "https://localhost:8080/",
          "height": 467
        }
      },
      "source": [
        "plt.figure(figsize=(13,7))\n",
        "sns.set(style=\"darkgrid\")\n",
        "total = float(len(df))\n",
        "\n",
        "ax = sns.countplot(x='OverWeight/Obesity_Type',hue='Gender',data=df, saturation=1)\n",
        "\n",
        "for p in ax.patches:\n",
        "    height = p.get_height()\n",
        "    ax.text(p.get_x()+p.get_width()/2.,\n",
        "            height + 3,\n",
        "            '{:1.2f}'.format(height/total),\n",
        "            ha=\"center\") \n",
        "\n",
        "ax.set_title('Weight Types by Gender',fontsize=16)\n",
        "ax.set_xlabel('Type')\n",
        "ax.set_ylabel('Num. of people')\n",
        "plt.show()"
      ],
      "execution_count": 15,
      "outputs": [
        {
          "output_type": "display_data",
          "data": {
            "image/png": "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\n",
            "text/plain": [
              "<Figure size 936x504 with 1 Axes>"
            ]
          },
          "metadata": {
            "tags": []
          }
        }
      ]
    },
    {
      "cell_type": "markdown",
      "metadata": {
        "id": "J4DEzmD-VfWL"
      },
      "source": [
        "- Percentage of OverWeight/Obesity Males is:   39%.\n",
        "- Percentage of OverWeight/Obesity Females is: 34%.\n",
        "- The rest of 27% people are in the normal weight and the insufficient weight group.\n",
        "- From this dataset, we can see that males have a higher chance of becoming overweight or obese than females in general."
      ]
    },
    {
      "cell_type": "markdown",
      "metadata": {
        "id": "HnlxiQ5vVfWL"
      },
      "source": [
        "####**<font size=3> Compare the Weight Type Related to Alcohol Consumption by Gender**"
      ]
    },
    {
      "cell_type": "markdown",
      "metadata": {
        "id": "bs3tcs9mVfWL"
      },
      "source": [
        "Now we check the weight types with alcohol consumption grouped by gender."
      ]
    },
    {
      "cell_type": "code",
      "metadata": {
        "id": "F2CoZT1fVfWM"
      },
      "source": [
        "# separate the dataset by gender\n",
        "female_df = df[df['Gender'] == 'Female']\n",
        "male_df = df[df['Gender'] == 'Male']"
      ],
      "execution_count": 16,
      "outputs": []
    },
    {
      "cell_type": "code",
      "metadata": {
        "id": "-gKJBgiUVfWO",
        "outputId": "73b00452-f264-4df4-d8b6-854804598a32",
        "colab": {
          "base_uri": "https://localhost:8080/",
          "height": 429
        }
      },
      "source": [
        "# plot the weight type with alcohol consumption by gender\n",
        "fig, ax = plt.subplots(1,2,figsize=(17,6))\n",
        "sns.set(style=\"darkgrid\")\n",
        "\n",
        "# plot for female\n",
        "sns.countplot(x='Alcohol',hue='OverWeight/Obesity_Type',data=female_df,ax=ax[0], saturation=1)\n",
        "\n",
        "ax[0].set_title('Female \\nAlcohol Consumption vs Weight Type',fontsize=16)\n",
        "ax[0].set_xlabel('Consumption of alcohol')\n",
        "ax[0].set_ylabel('Count')\n",
        "\n",
        "# plot for male\n",
        "sns.countplot(x='Alcohol',hue='OverWeight/Obesity_Type',data=male_df,ax=ax[1], saturation=1)\n",
        "ax[1].set_title('Male \\nAlcohol Consumption vs Weight Type',fontsize=16)\n",
        "ax[1].set_xlabel('Consumption of alcohol')\n",
        "ax[1].set_ylabel('Count')\n",
        "\n",
        "# move the legend in subplot \n",
        "plt.legend(loc=1)\n",
        "plt.show()"
      ],
      "execution_count": 17,
      "outputs": [
        {
          "output_type": "display_data",
          "data": {
            "image/png": "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\n",
            "text/plain": [
              "<Figure size 1224x432 with 2 Axes>"
            ]
          },
          "metadata": {
            "tags": []
          }
        }
      ]
    },
    {
      "cell_type": "markdown",
      "metadata": {
        "id": "2oFhXSeDVfWQ"
      },
      "source": [
        "####**Explanation: <br>**\n",
        "- For people with No Alcohol Consumption:<br> \n",
        "The number of Overweight Levels I and II in the female group is higher than in the male group. <br>\n",
        "But the female group has a much lower number in Type I and Type II Obesity than the male group.<br>\n",
        "\n",
        "\n",
        "- For people with Sometimes Alcohol Consumption: <br> \n",
        "The number of Overweight Levels I, II, Type II Obesity for females are lower than males.<br> \n",
        "But the Type III Obesity has a large number(over 300) in the female group, compared with the male group with less than ten people with Type III Obesity. <br>\n",
        "\n",
        "\n",
        "- For the male group, the Type II Obesity group has over 200 people, compared to the female group, which is less than ten people.\n",
        "\n"
      ]
    },
    {
      "cell_type": "code",
      "metadata": {
        "id": "VCmsqtKRVfWR",
        "outputId": "57c40e67-e4c4-40e9-8fd3-b04de042f7d6",
        "colab": {
          "base_uri": "https://localhost:8080/"
        }
      },
      "source": [
        "df_by_alcohol = df.groupby(['OverWeight/Obesity_Type','Gender','Alcohol']).size()\n",
        "print (df_by_alcohol)"
      ],
      "execution_count": 18,
      "outputs": [
        {
          "output_type": "stream",
          "text": [
            "OverWeight/Obesity_Type  Gender  Alcohol   \n",
            "Insufficient_Weight      Female  Frequently      1\n",
            "                                 Sometimes     107\n",
            "                                 no             65\n",
            "                         Male    Sometimes      47\n",
            "                                 no             52\n",
            "Normal_Weight            Female  Frequently      7\n",
            "                                 Sometimes      72\n",
            "                                 no             62\n",
            "                         Male    Always          1\n",
            "                                 Frequently     11\n",
            "                                 Sometimes      89\n",
            "                                 no             45\n",
            "Obesity_Type_I           Female  Frequently      1\n",
            "                                 Sometimes      77\n",
            "                                 no             78\n",
            "                         Male    Frequently     13\n",
            "                                 Sometimes      95\n",
            "                                 no             87\n",
            "Obesity_Type_II          Female  Sometimes       1\n",
            "                                 no              1\n",
            "                         Male    Frequently      2\n",
            "                                 Sometimes     223\n",
            "                                 no             70\n",
            "Obesity_Type_III         Female  Sometimes     322\n",
            "                                 no              1\n",
            "                         Male    Sometimes       1\n",
            "Overweight_Level_I       Female  Frequently      9\n",
            "                                 Sometimes     110\n",
            "                                 no             26\n",
            "                         Male    Frequently      7\n",
            "                                 Sometimes     114\n",
            "                                 no             24\n",
            "Overweight_Level_II      Female  Frequently     10\n",
            "                                 Sometimes      22\n",
            "                                 no             71\n",
            "                         Male    Frequently      9\n",
            "                                 Sometimes     121\n",
            "                                 no             57\n",
            "dtype: int64\n"
          ],
          "name": "stdout"
        }
      ]
    },
    {
      "cell_type": "markdown",
      "metadata": {
        "id": "dkYLqSxaVfWT"
      },
      "source": [
        "####**Explanation:<br>**\n",
        "- 552 people in the Female group with 'sometimes' and 'frequently' drink alcohol behaviors has overweight or obesity.<br>\n",
        "- 585 people in the Male group with 'sometimes' and 'frequently' drink alcohol behaviors has overweight or obesity."
      ]
    },
    {
      "cell_type": "markdown",
      "metadata": {
        "id": "Aaa5_N2jVfWT"
      },
      "source": [
        "####**Conslusion:**<br>\n",
        "   - Since there are more males with alcohol consumption in the overweight and obesity groups than females, hence the hypothesis is True that males with alcohol consumption have a higher chance of being overweight and obese than females."
      ]
    },
    {
      "cell_type": "markdown",
      "metadata": {
        "id": "NQmqhl8KVfWT"
      },
      "source": [
        "####**<font size=3>Hypothesis 2**\n",
        "Smoking can increase the chance of being overweight and obese.\n"
      ]
    },
    {
      "cell_type": "markdown",
      "metadata": {
        "id": "ojyt9vlTVfWU"
      },
      "source": [
        "Commonly, people might think smoking could be bad for health, which might increase the chance of being overweight and obese.<br>In the second hypothesis, we will test whether smoking can affect peoples' overweight/obesity."
      ]
    },
    {
      "cell_type": "code",
      "metadata": {
        "id": "-tAcDybDVfWU"
      },
      "source": [
        "# Check the weight types grouped by smoking behavior"
      ],
      "execution_count": 19,
      "outputs": []
    },
    {
      "cell_type": "code",
      "metadata": {
        "id": "PPP1MdrEVfWW",
        "outputId": "144efa36-b697-4cdf-efc6-54588ab6a1f7",
        "colab": {
          "base_uri": "https://localhost:8080/"
        }
      },
      "source": [
        "df_by_Smoke = df.groupby(['OverWeight/Obesity_Type','Smoke']).size()\n",
        "df_by_Smoke"
      ],
      "execution_count": 20,
      "outputs": [
        {
          "output_type": "execute_result",
          "data": {
            "text/plain": [
              "OverWeight/Obesity_Type  Smoke\n",
              "Insufficient_Weight      no       271\n",
              "                         yes        1\n",
              "Normal_Weight            no       274\n",
              "                         yes       13\n",
              "Obesity_Type_I           no       345\n",
              "                         yes        6\n",
              "Obesity_Type_II          no       282\n",
              "                         yes       15\n",
              "Obesity_Type_III         no       323\n",
              "                         yes        1\n",
              "Overweight_Level_I       no       287\n",
              "                         yes        3\n",
              "Overweight_Level_II      no       285\n",
              "                         yes        5\n",
              "dtype: int64"
            ]
          },
          "metadata": {
            "tags": []
          },
          "execution_count": 20
        }
      ]
    },
    {
      "cell_type": "code",
      "metadata": {
        "id": "rW8s1ak2VfWY"
      },
      "source": [
        "# plot weight distribution groupby consumption of smoking"
      ],
      "execution_count": 21,
      "outputs": []
    },
    {
      "cell_type": "code",
      "metadata": {
        "id": "9qS1DD1UVfWa",
        "outputId": "61a73c6c-102c-43cd-ff67-2a3309432fee",
        "colab": {
          "base_uri": "https://localhost:8080/",
          "height": 466
        }
      },
      "source": [
        "plt.figure(figsize=(12,7))\n",
        "sns.set(style=\"darkgrid\")\n",
        "total = float(len(df))\n",
        "\n",
        "ax = sns.countplot(x='OverWeight/Obesity_Type',hue='Smoke',data=df, saturation=1)\n",
        "\n",
        "for p in ax.patches:\n",
        "    height = p.get_height()\n",
        "    ax.text(p.get_x()+p.get_width()/2.,\n",
        "            height + 3,\n",
        "            '{:1.2f}'.format(height/total),\n",
        "            ha=\"center\") \n",
        "\n",
        "ax.set_title('Weight Types Distribution by Family History',fontsize=14)\n",
        "ax.set_xlabel('Type')\n",
        "ax.set_ylabel('Num. of people')\n",
        "plt.show()"
      ],
      "execution_count": 22,
      "outputs": [
        {
          "output_type": "display_data",
          "data": {
            "image/png": "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\n",
            "text/plain": [
              "<Figure size 864x504 with 1 Axes>"
            ]
          },
          "metadata": {
            "tags": []
          }
        }
      ]
    },
    {
      "cell_type": "markdown",
      "metadata": {
        "id": "63zFg5IeVfWc"
      },
      "source": [
        "####**Explanation:**<br>\n",
        "- From this graph, we can see that only 30 people with smoking behavior are overweight or obese in this dataset, and it is 1.42% of the total of 2111 people in the dataset.\n",
        "\n",
        "####**Conclusion:**<br>\n",
        "- The consumption of smoking does not affect the weight in this dataset.\n",
        "- Hence the hypothesis is Not True. We failed to prove that smoking can increase the chance of being overweight and obese. "
      ]
    },
    {
      "cell_type": "markdown",
      "metadata": {
        "id": "x-9dX44aVfWd"
      },
      "source": [
        "####**<font size=3>Hypothesis 3**\n",
        "People with a family history of overweight have a higher risk of being overweight and obese."
      ]
    },
    {
      "cell_type": "markdown",
      "metadata": {
        "id": "4YJ_k9qKVfWd"
      },
      "source": [
        "Many diseases are highly related with family history, overweight and obesity can be one of them. <br>For the third hypothesis,\n",
        "we will do the test to see that if people with family histories of weight issues are more likely to have the same probelms."
      ]
    },
    {
      "cell_type": "code",
      "metadata": {
        "id": "HJsaYvfcVfWd"
      },
      "source": [
        "# Check the weight types grouped by family history of overweight and obesity"
      ],
      "execution_count": 23,
      "outputs": []
    },
    {
      "cell_type": "code",
      "metadata": {
        "id": "CvPZ_GLNVfWf",
        "outputId": "515d28e7-41a9-4854-b81d-99cb1978f4ed",
        "colab": {
          "base_uri": "https://localhost:8080/"
        }
      },
      "source": [
        "df_by_FamHistory = df.groupby(['OverWeight/Obesity_Type','FamHist_overweight']).size()\n",
        "df_by_FamHistory"
      ],
      "execution_count": 24,
      "outputs": [
        {
          "output_type": "execute_result",
          "data": {
            "text/plain": [
              "OverWeight/Obesity_Type  FamHist_overweight\n",
              "Insufficient_Weight      no                    146\n",
              "                         yes                   126\n",
              "Normal_Weight            no                    132\n",
              "                         yes                   155\n",
              "Obesity_Type_I           no                      7\n",
              "                         yes                   344\n",
              "Obesity_Type_II          no                      1\n",
              "                         yes                   296\n",
              "Obesity_Type_III         yes                   324\n",
              "Overweight_Level_I       no                     81\n",
              "                         yes                   209\n",
              "Overweight_Level_II      no                     18\n",
              "                         yes                   272\n",
              "dtype: int64"
            ]
          },
          "metadata": {
            "tags": []
          },
          "execution_count": 24
        }
      ]
    },
    {
      "cell_type": "code",
      "metadata": {
        "id": "OL5u8BmCVfWi"
      },
      "source": [
        "# plot weight distribution grouped by family history or overweight and obesity"
      ],
      "execution_count": 25,
      "outputs": []
    },
    {
      "cell_type": "code",
      "metadata": {
        "id": "e7cFWm-NVfWk",
        "outputId": "dbf8f22e-d5f6-470b-bf5e-91bdbc521976",
        "colab": {
          "base_uri": "https://localhost:8080/",
          "height": 466
        }
      },
      "source": [
        "plt.figure(figsize=(13,7))\n",
        "sns.set(style=\"darkgrid\")\n",
        "\n",
        "sns.countplot(x='OverWeight/Obesity_Type',hue='FamHist_overweight',palette=[\"#9b59b6\",\"#3498db\"],data=df,saturation=1)\n",
        "\n",
        "plt.title('Weight Types Distribution vs Family History of Overweight and Obesity',fontsize=14)\n",
        "plt.xlabel('Type')\n",
        "plt.ylabel('Num. of people')\n",
        "plt.show()"
      ],
      "execution_count": 26,
      "outputs": [
        {
          "output_type": "display_data",
          "data": {
            "image/png": "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\n",
            "text/plain": [
              "<Figure size 936x504 with 1 Axes>"
            ]
          },
          "metadata": {
            "tags": []
          }
        }
      ]
    },
    {
      "cell_type": "markdown",
      "metadata": {
        "id": "fHy7Jd6EVfWm"
      },
      "source": [
        "####**Explanation:**<br>\n",
        "- From this graph, we can see that the group of people with a family history of overweight and obesity way large than the people without a family history, except for people in the insufficient weight group.\n",
        "\n",
        "####**Conclusion:**<br>\n",
        "\n",
        "- Hence, the hypothesis is True, that people with a family history of overweight and obesity have a higher risk of being overweight/obese."
      ]
    },
    {
      "cell_type": "markdown",
      "metadata": {
        "id": "oTAJbBb1VfWm"
      },
      "source": [
        "####**<font size=4>Conclusion**:<br>"
      ]
    },
    {
      "cell_type": "markdown",
      "metadata": {
        "id": "jIX1rnU5VfWm"
      },
      "source": [
        "**Hypothesis:**\n",
        "\n",
        "1.For people who consume alcohol, males have a higher chance of being overweight and obese than females.\n",
        "- The hypothesis is True that males with alcohol consumption have a higher chance of being overweight and obese than females.\n",
        "\n",
        "2.Smoking can increase the chance of being overweight and obese.\n",
        "- The hypothesis is Not True. We failed to prove that smoking can increase the chance of being overweight and obese.\n",
        "- But this is not proof of smoking can help reduce weight.\n",
        "\n",
        "3.People with a family history of overweight have a higher risk of being overweight and obese.\n",
        "- The hypothesis is True, that people with a family history of overweight and obesity have a higher risk of being overweight/obese."
      ]
    },
    {
      "cell_type": "markdown",
      "metadata": {
        "id": "tbgrLBygVfWn"
      },
      "source": [
        "####**References:**<br>\n",
        "https://www.geeksforgeeks.org/numpy-isnan-python/<br>\n",
        "https://stackoverflow.com/questions/61000529/multiple-count-plots-in-seaborn<br>\n",
        "https://stackoverflow.com/questions/41524240/how-to-separate-female-and-male-without-groupby-in-python<br>\n",
        "https://stackoverflow.com/questions/14770735/how-do-i-change-the-figure-size-with-subplots<br>\n",
        "https://stackoverflow.com/questions/31749448/how-to-add-percentages-on-top-of-bars-in-seaborn<br>\n",
        "https://stackoverflow.com/questions/43131274/how-do-i-plot-two-countplot-graphs-side-by-side-in-seaborn<br>\n",
        "\n",
        "\n"
      ]
    }
  ]
}
